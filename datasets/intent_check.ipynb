{
 "cells": [
  {
   "cell_type": "code",
   "execution_count": 1,
   "id": "0aefef25",
   "metadata": {},
   "outputs": [],
   "source": [
    "import os\n",
    "import json\n",
    "import pandas as pd\n"
   ]
  },
  {
   "cell_type": "code",
   "execution_count": 5,
   "id": "172137b6",
   "metadata": {},
   "outputs": [],
   "source": [
    "with open(\"complete/intents_dataset_v2_en.json\", \"r\") as f:\n",
    "    data = json.load(f)\n",
    "dataframe = pd.DataFrame(data)"
   ]
  },
  {
   "cell_type": "code",
   "execution_count": 8,
   "id": "9edf9306",
   "metadata": {},
   "outputs": [
    {
     "data": {
      "text/html": [
       "<div>\n",
       "<style scoped>\n",
       "    .dataframe tbody tr th:only-of-type {\n",
       "        vertical-align: middle;\n",
       "    }\n",
       "\n",
       "    .dataframe tbody tr th {\n",
       "        vertical-align: top;\n",
       "    }\n",
       "\n",
       "    .dataframe thead th {\n",
       "        text-align: right;\n",
       "    }\n",
       "</style>\n",
       "<table border=\"1\" class=\"dataframe\">\n",
       "  <thead>\n",
       "    <tr style=\"text-align: right;\">\n",
       "      <th></th>\n",
       "      <th>id</th>\n",
       "      <th>text</th>\n",
       "      <th>intent</th>\n",
       "    </tr>\n",
       "  </thead>\n",
       "  <tbody>\n",
       "    <tr>\n",
       "      <th>0</th>\n",
       "      <td>d058c33d-8626-4ded-a49b-006231b9b26a</td>\n",
       "      <td>Any alerts in Abu Gosh recently?</td>\n",
       "      <td>ALERTS_IN_LOCATION</td>\n",
       "    </tr>\n",
       "    <tr>\n",
       "      <th>1</th>\n",
       "      <td>1a2e5557-b016-45d4-9312-c1e3cf4da7ba</td>\n",
       "      <td>How many alerts happened in Abu Gosh last week?</td>\n",
       "      <td>ALERTS_IN_LOCATION_TIME</td>\n",
       "    </tr>\n",
       "    <tr>\n",
       "      <th>2</th>\n",
       "      <td>e9c4cc60-103f-4d23-aa46-bcb5a6c7e00b</td>\n",
       "      <td>Tell me about alert activity in Abu Gosh yeste...</td>\n",
       "      <td>ALERTS_IN_LOCATION_TIME</td>\n",
       "    </tr>\n",
       "    <tr>\n",
       "      <th>3</th>\n",
       "      <td>2603c8c0-7b7f-4997-b731-a516ed0b7665</td>\n",
       "      <td>Did Abu Gosh experience many alerts?</td>\n",
       "      <td>ALERTS_IN_LOCATION</td>\n",
       "    </tr>\n",
       "    <tr>\n",
       "      <th>4</th>\n",
       "      <td>98cf81dc-e16e-4536-a42b-c9f12e791b1f</td>\n",
       "      <td>Any alerts in Abu-Nuwar recently?</td>\n",
       "      <td>ALERTS_IN_LOCATION</td>\n",
       "    </tr>\n",
       "    <tr>\n",
       "      <th>...</th>\n",
       "      <td>...</td>\n",
       "      <td>...</td>\n",
       "      <td>...</td>\n",
       "    </tr>\n",
       "    <tr>\n",
       "      <th>5795</th>\n",
       "      <td>37360942-e6eb-4b52-89c3-57e1928910c6</td>\n",
       "      <td>Did Jerusalem experience many alerts?</td>\n",
       "      <td>ALERTS_IN_LOCATION</td>\n",
       "    </tr>\n",
       "    <tr>\n",
       "      <th>5796</th>\n",
       "      <td>182ed39c-7746-4276-93c0-f3b2dac40ed9</td>\n",
       "      <td>Any alerts in HaAmakim recently?</td>\n",
       "      <td>ALERTS_IN_LOCATION</td>\n",
       "    </tr>\n",
       "    <tr>\n",
       "      <th>5797</th>\n",
       "      <td>80590f15-1f11-438c-ae9b-ebf55919484a</td>\n",
       "      <td>How many alerts happened in HaAmakim last week?</td>\n",
       "      <td>ALERTS_IN_LOCATION_TIME</td>\n",
       "    </tr>\n",
       "    <tr>\n",
       "      <th>5798</th>\n",
       "      <td>de4f4245-916c-4a16-b6f4-8b6658378582</td>\n",
       "      <td>Tell me about alert activity in HaAmakim yeste...</td>\n",
       "      <td>ALERTS_IN_LOCATION_TIME</td>\n",
       "    </tr>\n",
       "    <tr>\n",
       "      <th>5799</th>\n",
       "      <td>63b77c63-d7e9-423e-a734-56557a58abdc</td>\n",
       "      <td>Did HaAmakim experience many alerts?</td>\n",
       "      <td>ALERTS_IN_LOCATION</td>\n",
       "    </tr>\n",
       "  </tbody>\n",
       "</table>\n",
       "<p>5800 rows × 3 columns</p>\n",
       "</div>"
      ],
      "text/plain": [
       "                                        id  \\\n",
       "0     d058c33d-8626-4ded-a49b-006231b9b26a   \n",
       "1     1a2e5557-b016-45d4-9312-c1e3cf4da7ba   \n",
       "2     e9c4cc60-103f-4d23-aa46-bcb5a6c7e00b   \n",
       "3     2603c8c0-7b7f-4997-b731-a516ed0b7665   \n",
       "4     98cf81dc-e16e-4536-a42b-c9f12e791b1f   \n",
       "...                                    ...   \n",
       "5795  37360942-e6eb-4b52-89c3-57e1928910c6   \n",
       "5796  182ed39c-7746-4276-93c0-f3b2dac40ed9   \n",
       "5797  80590f15-1f11-438c-ae9b-ebf55919484a   \n",
       "5798  de4f4245-916c-4a16-b6f4-8b6658378582   \n",
       "5799  63b77c63-d7e9-423e-a734-56557a58abdc   \n",
       "\n",
       "                                                   text  \\\n",
       "0                      Any alerts in Abu Gosh recently?   \n",
       "1       How many alerts happened in Abu Gosh last week?   \n",
       "2     Tell me about alert activity in Abu Gosh yeste...   \n",
       "3                  Did Abu Gosh experience many alerts?   \n",
       "4                     Any alerts in Abu-Nuwar recently?   \n",
       "...                                                 ...   \n",
       "5795              Did Jerusalem experience many alerts?   \n",
       "5796                   Any alerts in HaAmakim recently?   \n",
       "5797    How many alerts happened in HaAmakim last week?   \n",
       "5798  Tell me about alert activity in HaAmakim yeste...   \n",
       "5799               Did HaAmakim experience many alerts?   \n",
       "\n",
       "                       intent  \n",
       "0          ALERTS_IN_LOCATION  \n",
       "1     ALERTS_IN_LOCATION_TIME  \n",
       "2     ALERTS_IN_LOCATION_TIME  \n",
       "3          ALERTS_IN_LOCATION  \n",
       "4          ALERTS_IN_LOCATION  \n",
       "...                       ...  \n",
       "5795       ALERTS_IN_LOCATION  \n",
       "5796       ALERTS_IN_LOCATION  \n",
       "5797  ALERTS_IN_LOCATION_TIME  \n",
       "5798  ALERTS_IN_LOCATION_TIME  \n",
       "5799       ALERTS_IN_LOCATION  \n",
       "\n",
       "[5800 rows x 3 columns]"
      ]
     },
     "execution_count": 8,
     "metadata": {},
     "output_type": "execute_result"
    }
   ],
   "source": [
    "dataframe"
   ]
  },
  {
   "cell_type": "code",
   "execution_count": 11,
   "id": "2ac119c6",
   "metadata": {},
   "outputs": [
    {
     "name": "stdout",
     "output_type": "stream",
     "text": [
      "Intent: ALERTS_IN_LOCATION, Number of utterances: 2900\n",
      "Intent: ALERTS_IN_LOCATION_TIME, Number of utterances: 2900\n"
     ]
    }
   ],
   "source": [
    "# print each intent and the number of utterances\n",
    "for intent in dataframe[\"intent\"].unique():\n",
    "    print(f\"Intent: {intent}, Number of utterances: {len(dataframe[dataframe['intent'] == intent])}\")\n"
   ]
  },
  {
   "cell_type": "code",
   "execution_count": 37,
   "id": "c3f58d80",
   "metadata": {},
   "outputs": [],
   "source": [
    "with open(\"complete/most_alerted_location_dataset.json\", \"r\") as f:\n",
    "    alerted_dataset = json.load(f)\n",
    "example_list = []\n",
    "for example in alerted_dataset:\n",
    "    new_example = {}\n",
    "    new_example[\"token\"] = example[\"text\"].split()\n",
    "    new_example[\"ner_tags\"] = ['O' for _ in range(len(new_example[\"token\"]))]\n",
    "    example_list.append(new_example)\n",
    "    \n",
    "with open(\"complete/ner_most_alerted_location_dataset.json\", \"w\") as f:\n",
    "    json.dump(example_list, f, indent=4)"
   ]
  }
 ],
 "metadata": {
  "kernelspec": {
   "display_name": "venv",
   "language": "python",
   "name": "python3"
  },
  "language_info": {
   "codemirror_mode": {
    "name": "ipython",
    "version": 3
   },
   "file_extension": ".py",
   "mimetype": "text/x-python",
   "name": "python",
   "nbconvert_exporter": "python",
   "pygments_lexer": "ipython3",
   "version": "3.12.4"
  }
 },
 "nbformat": 4,
 "nbformat_minor": 5
}
