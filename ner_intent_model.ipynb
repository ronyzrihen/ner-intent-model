{
 "cells": [
  {
   "cell_type": "code",
   "execution_count": 1,
   "metadata": {},
   "outputs": [
    {
     "name": "stdout",
     "output_type": "stream",
     "text": [
      "Requirement already satisfied: transformers in .\\venv\\lib\\site-packages (4.48.3)\n",
      "Requirement already satisfied: datasets in .\\venv\\lib\\site-packages (3.3.2)\n",
      "Collecting seqeval\n",
      "  Downloading seqeval-1.2.2.tar.gz (43 kB)\n",
      "     ---------------------------------------- 0.0/43.6 kB ? eta -:--:--\n",
      "     --------- ------------------------------ 10.2/43.6 kB ? eta -:--:--\n",
      "     -------------------------- ----------- 30.7/43.6 kB 330.3 kB/s eta 0:00:01\n",
      "     -------------------------------------- 43.6/43.6 kB 354.9 kB/s eta 0:00:00\n",
      "  Installing build dependencies: started\n",
      "  Installing build dependencies: finished with status 'done'\n",
      "  Getting requirements to build wheel: started\n",
      "  Getting requirements to build wheel: finished with status 'done'\n",
      "  Installing backend dependencies: started\n",
      "  Installing backend dependencies: finished with status 'done'\n",
      "  Preparing metadata (pyproject.toml): started\n",
      "  Preparing metadata (pyproject.toml): finished with status 'done'\n",
      "Requirement already satisfied: torch in .\\venv\\lib\\site-packages (2.6.0)\n",
      "Requirement already satisfied: accelerate in .\\venv\\lib\\site-packages (1.3.0)\n",
      "Requirement already satisfied: filelock in .\\venv\\lib\\site-packages (from transformers) (3.17.0)\n",
      "Requirement already satisfied: huggingface-hub<1.0,>=0.24.0 in .\\venv\\lib\\site-packages (from transformers) (0.28.1)\n",
      "Requirement already satisfied: numpy>=1.17 in .\\venv\\lib\\site-packages (from transformers) (2.2.2)\n",
      "Requirement already satisfied: packaging>=20.0 in .\\venv\\lib\\site-packages (from transformers) (24.2)\n",
      "Requirement already satisfied: pyyaml>=5.1 in .\\venv\\lib\\site-packages (from transformers) (6.0.2)\n",
      "Requirement already satisfied: regex!=2019.12.17 in .\\venv\\lib\\site-packages (from transformers) (2024.11.6)\n",
      "Requirement already satisfied: requests in .\\venv\\lib\\site-packages (from transformers) (2.32.3)\n",
      "Requirement already satisfied: tokenizers<0.22,>=0.21 in .\\venv\\lib\\site-packages (from transformers) (0.21.0)\n",
      "Requirement already satisfied: safetensors>=0.4.1 in .\\venv\\lib\\site-packages (from transformers) (0.5.2)\n",
      "Requirement already satisfied: tqdm>=4.27 in .\\venv\\lib\\site-packages (from transformers) (4.67.1)\n",
      "Requirement already satisfied: pyarrow>=15.0.0 in .\\venv\\lib\\site-packages (from datasets) (19.0.0)\n",
      "Requirement already satisfied: dill<0.3.9,>=0.3.0 in .\\venv\\lib\\site-packages (from datasets) (0.3.8)\n",
      "Requirement already satisfied: pandas in .\\venv\\lib\\site-packages (from datasets) (2.2.3)\n",
      "Requirement already satisfied: xxhash in .\\venv\\lib\\site-packages (from datasets) (3.5.0)\n",
      "Requirement already satisfied: multiprocess<0.70.17 in .\\venv\\lib\\site-packages (from datasets) (0.70.16)\n",
      "Requirement already satisfied: fsspec<=2024.12.0,>=2023.1.0 in .\\venv\\lib\\site-packages (from fsspec[http]<=2024.12.0,>=2023.1.0->datasets) (2024.9.0)\n",
      "Requirement already satisfied: aiohttp in .\\venv\\lib\\site-packages (from datasets) (3.11.12)\n",
      "Collecting scikit-learn>=0.21.3 (from seqeval)\n",
      "  Downloading scikit_learn-1.6.1-cp312-cp312-win_amd64.whl.metadata (15 kB)\n",
      "Requirement already satisfied: typing-extensions>=4.10.0 in .\\venv\\lib\\site-packages (from torch) (4.12.2)\n",
      "Requirement already satisfied: networkx in .\\venv\\lib\\site-packages (from torch) (3.4.2)\n",
      "Requirement already satisfied: jinja2 in .\\venv\\lib\\site-packages (from torch) (3.1.5)\n",
      "Requirement already satisfied: setuptools in .\\venv\\lib\\site-packages (from torch) (75.8.0)\n",
      "Requirement already satisfied: sympy==1.13.1 in .\\venv\\lib\\site-packages (from torch) (1.13.1)\n",
      "Requirement already satisfied: mpmath<1.4,>=1.1.0 in .\\venv\\lib\\site-packages (from sympy==1.13.1->torch) (1.3.0)\n",
      "Requirement already satisfied: psutil in .\\venv\\lib\\site-packages (from accelerate) (6.1.1)\n",
      "Requirement already satisfied: aiohappyeyeballs>=2.3.0 in .\\venv\\lib\\site-packages (from aiohttp->datasets) (2.4.6)\n",
      "Requirement already satisfied: aiosignal>=1.1.2 in .\\venv\\lib\\site-packages (from aiohttp->datasets) (1.3.2)\n",
      "Requirement already satisfied: attrs>=17.3.0 in .\\venv\\lib\\site-packages (from aiohttp->datasets) (25.1.0)\n",
      "Requirement already satisfied: frozenlist>=1.1.1 in .\\venv\\lib\\site-packages (from aiohttp->datasets) (1.5.0)\n",
      "Requirement already satisfied: multidict<7.0,>=4.5 in .\\venv\\lib\\site-packages (from aiohttp->datasets) (6.1.0)\n",
      "Requirement already satisfied: propcache>=0.2.0 in .\\venv\\lib\\site-packages (from aiohttp->datasets) (0.2.1)\n",
      "Requirement already satisfied: yarl<2.0,>=1.17.0 in .\\venv\\lib\\site-packages (from aiohttp->datasets) (1.18.3)\n",
      "Requirement already satisfied: charset-normalizer<4,>=2 in .\\venv\\lib\\site-packages (from requests->transformers) (3.4.1)\n",
      "Requirement already satisfied: idna<4,>=2.5 in .\\venv\\lib\\site-packages (from requests->transformers) (3.10)\n",
      "Requirement already satisfied: urllib3<3,>=1.21.1 in .\\venv\\lib\\site-packages (from requests->transformers) (2.3.0)\n",
      "Requirement already satisfied: certifi>=2017.4.17 in .\\venv\\lib\\site-packages (from requests->transformers) (2025.1.31)\n",
      "Collecting scipy>=1.6.0 (from scikit-learn>=0.21.3->seqeval)\n",
      "  Downloading scipy-1.15.2-cp312-cp312-win_amd64.whl.metadata (60 kB)\n",
      "     ---------------------------------------- 0.0/60.8 kB ? eta -:--:--\n",
      "     ---------------------------------------- 60.8/60.8 kB 1.6 MB/s eta 0:00:00\n",
      "Collecting joblib>=1.2.0 (from scikit-learn>=0.21.3->seqeval)\n",
      "  Downloading joblib-1.4.2-py3-none-any.whl.metadata (5.4 kB)\n",
      "Collecting threadpoolctl>=3.1.0 (from scikit-learn>=0.21.3->seqeval)\n",
      "  Downloading threadpoolctl-3.5.0-py3-none-any.whl.metadata (13 kB)\n",
      "Requirement already satisfied: colorama in .\\venv\\lib\\site-packages (from tqdm>=4.27->transformers) (0.4.6)\n",
      "Requirement already satisfied: MarkupSafe>=2.0 in .\\venv\\lib\\site-packages (from jinja2->torch) (3.0.2)\n",
      "Requirement already satisfied: python-dateutil>=2.8.2 in .\\venv\\lib\\site-packages (from pandas->datasets) (2.9.0.post0)\n",
      "Requirement already satisfied: pytz>=2020.1 in .\\venv\\lib\\site-packages (from pandas->datasets) (2025.1)\n",
      "Requirement already satisfied: tzdata>=2022.7 in .\\venv\\lib\\site-packages (from pandas->datasets) (2025.1)\n",
      "Requirement already satisfied: six>=1.5 in .\\venv\\lib\\site-packages (from python-dateutil>=2.8.2->pandas->datasets) (1.17.0)\n",
      "Downloading scikit_learn-1.6.1-cp312-cp312-win_amd64.whl (11.1 MB)\n",
      "   ---------------------------------------- 0.0/11.1 MB ? eta -:--:--\n",
      "   ---------------------------------------- 0.1/11.1 MB 6.4 MB/s eta 0:00:02\n",
      "    --------------------------------------- 0.2/11.1 MB 2.6 MB/s eta 0:00:05\n",
      "   - -------------------------------------- 0.4/11.1 MB 4.5 MB/s eta 0:00:03\n",
      "   - -------------------------------------- 0.5/11.1 MB 3.8 MB/s eta 0:00:03\n",
      "   -- ------------------------------------- 0.7/11.1 MB 3.8 MB/s eta 0:00:03\n",
      "   --- ------------------------------------ 1.0/11.1 MB 4.8 MB/s eta 0:00:03\n",
      "   ----- ---------------------------------- 1.5/11.1 MB 5.8 MB/s eta 0:00:02\n",
      "   -------- ------------------------------- 2.3/11.1 MB 8.0 MB/s eta 0:00:02\n",
      "   ----------- ---------------------------- 3.2/11.1 MB 10.1 MB/s eta 0:00:01\n",
      "   ----------------- ---------------------- 4.8/11.1 MB 14.0 MB/s eta 0:00:01\n",
      "   ------------------------- -------------- 7.0/11.1 MB 17.9 MB/s eta 0:00:01\n",
      "   ------------------------------------ --- 10.2/11.1 MB 24.1 MB/s eta 0:00:01\n",
      "   ---------------------------------------- 11.1/11.1 MB 40.9 MB/s eta 0:00:00\n",
      "Downloading joblib-1.4.2-py3-none-any.whl (301 kB)\n",
      "   ---------------------------------------- 0.0/301.8 kB ? eta -:--:--\n",
      "   ---------------------------------------- 301.8/301.8 kB ? eta 0:00:00\n",
      "Downloading scipy-1.15.2-cp312-cp312-win_amd64.whl (40.9 MB)\n",
      "   ---------------------------------------- 0.0/40.9 MB ? eta -:--:--\n",
      "   -- ------------------------------------- 2.8/40.9 MB 87.7 MB/s eta 0:00:01\n",
      "   ------ --------------------------------- 6.3/40.9 MB 99.3 MB/s eta 0:00:01\n",
      "   -------- ------------------------------- 8.9/40.9 MB 81.3 MB/s eta 0:00:01\n",
      "   ------------ --------------------------- 12.3/40.9 MB 93.9 MB/s eta 0:00:01\n",
      "   --------------- ------------------------ 15.6/40.9 MB 93.9 MB/s eta 0:00:01\n",
      "   ----------------- ---------------------- 18.4/40.9 MB 93.9 MB/s eta 0:00:01\n",
      "   -------------------- ------------------- 21.5/40.9 MB 81.8 MB/s eta 0:00:01\n",
      "   ----------------------- ---------------- 24.1/40.9 MB 93.9 MB/s eta 0:00:01\n",
      "   ----------------------- ---------------- 24.1/40.9 MB 93.9 MB/s eta 0:00:01\n",
      "   ----------------------- ---------------- 24.1/40.9 MB 93.9 MB/s eta 0:00:01\n",
      "   ------------------------- -------------- 25.9/40.9 MB 46.7 MB/s eta 0:00:01\n",
      "   ----------------------------- ---------- 30.5/40.9 MB 59.5 MB/s eta 0:00:01\n",
      "   ----------------------------- ---------- 30.5/40.9 MB 59.5 MB/s eta 0:00:01\n",
      "   ------------------------------ --------- 31.7/40.9 MB 40.9 MB/s eta 0:00:01\n",
      "   ------------------------------------- -- 38.1/40.9 MB 72.6 MB/s eta 0:00:01\n",
      "   ---------------------------------------  40.9/40.9 MB 131.2 MB/s eta 0:00:01\n",
      "   ---------------------------------------  40.9/40.9 MB 131.2 MB/s eta 0:00:01\n",
      "   ---------------------------------------- 40.9/40.9 MB 81.8 MB/s eta 0:00:00\n",
      "Downloading threadpoolctl-3.5.0-py3-none-any.whl (18 kB)\n",
      "Building wheels for collected packages: seqeval\n",
      "  Building wheel for seqeval (pyproject.toml): started\n",
      "  Building wheel for seqeval (pyproject.toml): finished with status 'done'\n",
      "  Created wheel for seqeval: filename=seqeval-1.2.2-py3-none-any.whl size=16247 sha256=0418bdce00d2c509fe28bd40119feec4cfab7de50506d525d5f0e4f3e7aab585\n",
      "  Stored in directory: c:\\users\\bloop123321\\appdata\\local\\pip\\cache\\wheels\\5f\\b8\\73\\0b2c1a76b701a677653dd79ece07cfabd7457989dbfbdcd8d7\n",
      "Successfully built seqeval\n",
      "Installing collected packages: threadpoolctl, scipy, joblib, scikit-learn, seqeval\n",
      "Successfully installed joblib-1.4.2 scikit-learn-1.6.1 scipy-1.15.2 seqeval-1.2.2 threadpoolctl-3.5.0\n"
     ]
    },
    {
     "name": "stderr",
     "output_type": "stream",
     "text": [
      "\n",
      "[notice] A new release of pip is available: 24.0 -> 25.0.1\n",
      "[notice] To update, run: python.exe -m pip install --upgrade pip\n"
     ]
    }
   ],
   "source": [
    "!pip install transformers datasets seqeval torch accelerate"
   ]
  },
  {
   "cell_type": "code",
   "execution_count": 78,
   "metadata": {},
   "outputs": [
    {
     "name": "stdout",
     "output_type": "stream",
     "text": [
      "289 0\n"
     ]
    }
   ],
   "source": [
    "import json\n",
    "from datasets import Dataset\n",
    "with open(\"datasets/intent_ner_dataset.json\",\n",
    "            \"r\",\n",
    "            encoding=\"utf-8\") as f:\n",
    "    data = json.load(f)\n",
    "\n",
    "with open(\"datasets/output.json\",\n",
    "            \"r\",\n",
    "            encoding=\"utf-8\") as f:\n",
    "    ddata = json.load(f)\n",
    "\n",
    "count = 0\n",
    "for i in ddata:\n",
    "    if len(i[\"tokens\"]) != len(i[\"ner_tags\"]):\n",
    "        count += 1\n",
    "        print(i)\n",
    "print(len(ddata), count)"
   ]
  },
  {
   "cell_type": "code",
   "execution_count": 48,
   "metadata": {},
   "outputs": [
    {
     "name": "stdout",
     "output_type": "stream",
     "text": [
      "14 14\n"
     ]
    }
   ],
   "source": [
    "fix = [\n",
    "    {\"tokens\": [\"Retrieve\", \"all\", \"drone\", \"intrusion\", \"alerts\", \"on\", \"March\", \"5,\", \"2024\", \".\"], \n",
    "     \"ner_tags\": [\"B-ACTION\", \"I-ACTION\", \"B-ALERT_TYPE\", \"I-ALERT_TYPE\", \"O\", \"B-DATE\", \"I-DATE\", \"I-DATE\", \"O\"]},\n",
    "\n",
    "    {\"tokens\": [\"How\", \"many\", \"red\", \"alerts\", \"where\", \"there\", \"in\", \"Dead\", \"Sea\", \"this\", \"month\", \"?\"], \n",
    "     \"ner_tags\": [\"B-QUESTION_TYPE\", \"I-QUESTION_TYPE\", \"B-ALERT_TYPE\", \"I-ALERT_TYPE\", \"O\", \"B-LOCATION\", \"I-LOCATION\", \"B-TIME_FRAME\", \"I-TIME_FRAME\", \"O\"]},\n",
    "\n",
    "    {\"tokens\": [\"How\", \"many\", \"red\", \"alerts\", \"where\", \"there\", \"in\", \"Ein\", \"Kamonim\", \"last\", \"week\", \"?\"], \n",
    "     \"ner_tags\": [\"B-QUESTION_TYPE\", \"I-QUESTION_TYPE\", \"B-ALERT_TYPE\", \"I-ALERT_TYPE\", \"O\", \"O\", \"O\", \"B-LOCATION\", \"B-TIME_FRAME\", \"I-TIME_FRAME\", \"O\"]},\n",
    "\n",
    "    {\"tokens\": [\"Retrieve\", \"all\", \"red\", \"alerts\", \"on\", \"March\", \"5,\", \"2024\", \".\"], \n",
    "     \"ner_tags\": [\"B-ACTION\", \"I-ACTION\", \"O\", \"B-ALERT_TYPE\", \"I-ALERT_TYPE\", \"O\", \"B-DATE\", \"I-DATE\", \"I-DATE\", \"O\"]},\n",
    "\n",
    "    {\"tokens\": [\"Has\", \"there\", \"been\", \"any\", \"drone\", \"intrusion\", \"alerts\", \"on\", \"yesterday\", \"?\"], \n",
    "     \"ner_tags\": [\"B-QUESTION_TYPE\", \"I-QUESTION_TYPE\", \"O\", \"O\", \"B-ALERT_TYPE\", \"I-ALERT_TYPE\", \"O\", \"B-DATE\", \"O\"]},\n",
    "\n",
    "    {\"tokens\": [\"How\", \"many\", \"missile\", \"alerts\", \"where\", \"there\", \"in\", \"Southern\", \"Negev\", \"this\", \"month\", \"?\"], \n",
    "     \"ner_tags\": [\"B-QUESTION_TYPE\", \"I-QUESTION_TYPE\", \"B-ALERT_TYPE\", \"I-ALERT_TYPE\", \"O\", \"O\", \"B-LOCATION\", \"I-LOCATION\", \"B-TIME_FRAME\", \"I-TIME_FRAME\", \"O\"]},\n",
    "\n",
    "    {\"tokens\": [\"Give\", \"me\", \"all\", \"red\", \"alerts\", \"on\", \"April\", \"15,\", \"2023.\"], \n",
    "     \"ner_tags\": [\"B-ACTION\", \"I-ACTION\", \"O\", \"B-ALERT_TYPE\", \"I-ALERT_TYPE\", \"O\", \"B-DATE\", \"I-DATE\", \"I-DATE\", \"O\"]},\n",
    "\n",
    "    {\"tokens\": [\"Tell\", \"me\", \"the\", \"number\", \"of\", \"drone\", \"intrusion\", \"alerts\", \"on\", \"January\", \"1,\", \"2022.\"], \n",
    "     \"ner_tags\": [\"B-ACTION\", \"O\", \"B-COMP_OP\", \"O\", \"B-ALERT_TYPE\", \"I-ALERT_TYPE\", \"O\", \"B-DATE\", \"I-DATE\", \"I-DATE\", \"O\"]},\n",
    "\n",
    "    {\"tokens\": [\"Give\", \"me\", \"all\", \"rocket\", \"alerts\", \"on\", \"January\", \"1,\", \"2022.\"], \n",
    "     \"ner_tags\": [\"B-ACTION\", \"I-ACTION\", \"O\", \"B-ALERT_TYPE\", \"I-ALERT_TYPE\", \"O\", \"B-DATE\", \"I-DATE\", \"I-DATE\", \"O\"]},\n",
    "\n",
    "    {\"tokens\": [\"How\", \"many\", \"red\", \"alerts\", \"where\", \"there\", \"in\", \"Arabah\", \"this\", \"month\", \"?\"], \n",
    "     \"ner_tags\": [\"B-QUESTION_TYPE\", \"I-QUESTION_TYPE\", \"B-ALERT_TYPE\", \"I-ALERT_TYPE\", \"O\", \"B-LOCATION\", \"B-TIME_FRAME\", \"I-TIME_FRAME\", \"O\"]},\n",
    "\n",
    "    {\"tokens\": [\"Retrieve\", \"all\", \"red\", \"alerts\", \"on\", \"March\", \"5,\", \"2024.\"], \n",
    "     \"ner_tags\": [\"B-ACTION\", \"I-ACTION\", \"O\", \"B-ALERT_TYPE\", \"I-ALERT_TYPE\", \"O\", \"B-DATE\", \"I-DATE\", \"I-DATE\", \"O\"]},\n",
    "\n",
    "    {\"tokens\": [\"How\", \"many\", \"red\", \"alerts\", \"where\", \"there\", \"in\", \"Upper\", \"Galilee\", \"?\"], \n",
    "     \"ner_tags\": [\"B-QUESTION_TYPE\", \"I-QUESTION_TYPE\", \"B-ALERT_TYPE\", \"I-ALERT_TYPE\", \"O\", \"B-LOCATION\", \"I-LOCATION\", \"O\"]},\n",
    "\n",
    "    {\"tokens\": [\"Has\", \"there\", \"been\", \"any\", \"rocket\", \"alerts\", \"on\", \"yesterday\", \"?\"], \n",
    "     \"ner_tags\": [\"B-QUESTION_TYPE\", \"I-QUESTION_TYPE\", \"O\", \"O\", \"B-ALERT_TYPE\", \"I-ALERT_TYPE\", \"O\", \"B-DATE\", \"O\"]},\n",
    "\n",
    "    {\"tokens\": [\"How\", \"many\", \"missile\", \"alerts\", \"where\", \"there\", \"in\", \"Lakhish\", \"yesterday\", \"?\"], \n",
    "     \"ner_tags\": [\"B-QUESTION_TYPE\", \"I-QUESTION_TYPE\", \"B-ALERT_TYPE\", \"I-ALERT_TYPE\", \"O\", \"B-LOCATION\", \"B-TIME_FRAME\", \"I-TIME_FRAME\", \"O\"]}\n",
    "]\n",
    "\n",
    "fix_count = 0\n",
    "for f in fix:\n",
    "    flag = fix_count\n",
    "    for d in ddata:\n",
    "        if \" \".join(f[\"tokens\"]) == \" \".join(d[\"tokens\"]):\n",
    "            d[\"ner_tags\"] = f[\"ner_tags\"]\n",
    "            fix_count += 1\n",
    "            break\n",
    "    if flag == fix_count:\n",
    "        print(f[\"tokens\"], d[\"tokens\"])\n",
    "print(fix_count, len(fix))\n",
    "with open(\"datasets/output.json\",\n",
    "            \"w\",\n",
    "            encoding=\"utf-8\") as f:\n",
    "    json.dump(ddata, f, ensure_ascii=False, indent=4)"
   ]
  },
  {
   "cell_type": "code",
   "execution_count": 22,
   "metadata": {},
   "outputs": [
    {
     "name": "stdout",
     "output_type": "stream",
     "text": [
      "['I-COMP_OP', 'I-ACTION', 'I-TIME_FRAME', 'O', 'I-LOCATION', 'I-QUESTION_TYPE', 'I-DATE', 'B-COMP_OP', 'B-LOCATION', 'B-QUESTION_TYPE', 'B-DATE', 'I-ALERT_TYPE', 'B-TIME_FRAME', 'B-ACTION', 'B-COUNT', 'B-ALERT_TYPE', 'B-LOGIC_OP']\n",
      "{'I-COMP_OP': 0, 'I-ACTION': 1, 'I-TIME_FRAME': 2, 'O': 3, 'I-LOCATION': 4, 'I-QUESTION_TYPE': 5, 'I-DATE': 6, 'B-COMP_OP': 7, 'B-LOCATION': 8, 'B-QUESTION_TYPE': 9, 'B-DATE': 10, 'I-ALERT_TYPE': 11, 'B-TIME_FRAME': 12, 'B-ACTION': 13, 'B-COUNT': 14, 'B-ALERT_TYPE': 15, 'B-LOGIC_OP': 16}\n",
      "Dataset({\n",
      "    features: ['tokens', 'ner_tags', 'intent'],\n",
      "    num_rows: 141\n",
      "})\n"
     ]
    }
   ],
   "source": [
    "\n",
    "\n",
    "unique_tags = list(set(tag for sample in data for tag in sample[\"ner_tags\"]))\n",
    "print(unique_tags) \n",
    "\n",
    "# Create label mapping\n",
    "label2id = {label: i for i, label in enumerate(unique_tags)}\n",
    "id2label = {i: label for label, i in label2id.items()}\n",
    "print(label2id)\n",
    "\n",
    "intent2id = {\"COUNT_ALERTS\": 0, \"CHECK_ALERTS\": 1, \"SHOW_ALERTS\": 2, \"TIME_ALERTS\":3}\n",
    "id2intent = {v: k for k, v in intent2id.items()}\n",
    "\n",
    "\n",
    "dataset = Dataset.from_list([\n",
    "    {\"tokens\": d[\"tokens\"], \n",
    "     \"ner_tags\": [label2id[tag] for tag in d[\"ner_tags\"]],\n",
    "     \"intent\": intent2id[d[\"intent\"]]}\n",
    "    for d in data\n",
    "])\n",
    "print(dataset)"
   ]
  },
  {
   "cell_type": "code",
   "execution_count": 2,
   "metadata": {},
   "outputs": [],
   "source": [
    "from transformers import AutoTokenizer\n",
    "tokenizer = AutoTokenizer.from_pretrained(\"xlm-roberta-base\")"
   ]
  },
  {
   "cell_type": "code",
   "execution_count": 9,
   "metadata": {},
   "outputs": [
    {
     "name": "stderr",
     "output_type": "stream",
     "text": [
      "Map:  36%|███▌      | 51/141 [00:00<00:00, 3399.81 examples/s]\n"
     ]
    },
    {
     "ename": "ArrowInvalid",
     "evalue": "Could not convert 'B-QUESTION_TYPE' with type str: tried to convert to int64",
     "output_type": "error",
     "traceback": [
      "\u001b[31m---------------------------------------------------------------------------\u001b[39m",
      "\u001b[31mIndexError\u001b[39m                                Traceback (most recent call last)",
      "\u001b[36mFile \u001b[39m\u001b[32mf:\\shenkar\\pagmar\\venv\\Lib\\site-packages\\datasets\\arrow_dataset.py:3495\u001b[39m, in \u001b[36mDataset._map_single\u001b[39m\u001b[34m(shard, function, with_indices, with_rank, input_columns, batched, batch_size, drop_last_batch, remove_columns, keep_in_memory, cache_file_name, writer_batch_size, features, disable_nullable, fn_kwargs, new_fingerprint, rank, offset)\u001b[39m\n\u001b[32m   3494\u001b[39m _time = time.time()\n\u001b[32m-> \u001b[39m\u001b[32m3495\u001b[39m \u001b[43m\u001b[49m\u001b[38;5;28;43;01mfor\u001b[39;49;00m\u001b[43m \u001b[49m\u001b[43mi\u001b[49m\u001b[43m,\u001b[49m\u001b[43m \u001b[49m\u001b[43mexample\u001b[49m\u001b[43m \u001b[49m\u001b[38;5;129;43;01min\u001b[39;49;00m\u001b[43m \u001b[49m\u001b[43miter_outputs\u001b[49m\u001b[43m(\u001b[49m\u001b[43mshard_iterable\u001b[49m\u001b[43m)\u001b[49m\u001b[43m:\u001b[49m\n\u001b[32m   3496\u001b[39m \u001b[43m    \u001b[49m\u001b[38;5;28;43;01mif\u001b[39;49;00m\u001b[43m \u001b[49m\u001b[43mupdate_data\u001b[49m\u001b[43m:\u001b[49m\n",
      "\u001b[36mFile \u001b[39m\u001b[32mf:\\shenkar\\pagmar\\venv\\Lib\\site-packages\\datasets\\arrow_dataset.py:3469\u001b[39m, in \u001b[36mDataset._map_single.<locals>.iter_outputs\u001b[39m\u001b[34m(shard_iterable)\u001b[39m\n\u001b[32m   3468\u001b[39m \u001b[38;5;28;01mfor\u001b[39;00m i, example \u001b[38;5;129;01min\u001b[39;00m shard_iterable:\n\u001b[32m-> \u001b[39m\u001b[32m3469\u001b[39m     \u001b[38;5;28;01myield\u001b[39;00m i, \u001b[43mapply_function\u001b[49m\u001b[43m(\u001b[49m\u001b[43mexample\u001b[49m\u001b[43m,\u001b[49m\u001b[43m \u001b[49m\u001b[43mi\u001b[49m\u001b[43m,\u001b[49m\u001b[43m \u001b[49m\u001b[43moffset\u001b[49m\u001b[43m=\u001b[49m\u001b[43moffset\u001b[49m\u001b[43m)\u001b[49m\n",
      "\u001b[36mFile \u001b[39m\u001b[32mf:\\shenkar\\pagmar\\venv\\Lib\\site-packages\\datasets\\arrow_dataset.py:3392\u001b[39m, in \u001b[36mDataset._map_single.<locals>.apply_function\u001b[39m\u001b[34m(pa_inputs, indices, offset)\u001b[39m\n\u001b[32m   3391\u001b[39m inputs, fn_args, additional_args, fn_kwargs = prepare_inputs(pa_inputs, indices, offset=offset)\n\u001b[32m-> \u001b[39m\u001b[32m3392\u001b[39m processed_inputs = \u001b[43mfunction\u001b[49m\u001b[43m(\u001b[49m\u001b[43m*\u001b[49m\u001b[43mfn_args\u001b[49m\u001b[43m,\u001b[49m\u001b[43m \u001b[49m\u001b[43m*\u001b[49m\u001b[43madditional_args\u001b[49m\u001b[43m,\u001b[49m\u001b[43m \u001b[49m\u001b[43m*\u001b[49m\u001b[43m*\u001b[49m\u001b[43mfn_kwargs\u001b[49m\u001b[43m)\u001b[49m\n\u001b[32m   3393\u001b[39m \u001b[38;5;28;01mreturn\u001b[39;00m prepare_outputs(pa_inputs, inputs, processed_inputs)\n",
      "\u001b[36mCell\u001b[39m\u001b[36m \u001b[39m\u001b[32mIn[9]\u001b[39m\u001b[32m, line 13\u001b[39m, in \u001b[36mtokenize_and_align_labels\u001b[39m\u001b[34m(example)\u001b[39m\n\u001b[32m     12\u001b[39m \u001b[38;5;28;01melif\u001b[39;00m word_idx != previous_word_idx:\n\u001b[32m---> \u001b[39m\u001b[32m13\u001b[39m     labels.append(\u001b[43mner_tags\u001b[49m\u001b[43m[\u001b[49m\u001b[43mword_idx\u001b[49m\u001b[43m]\u001b[49m)  \u001b[38;5;66;03m# Assign NER tag\u001b[39;00m\n\u001b[32m     14\u001b[39m \u001b[38;5;28;01melse\u001b[39;00m:\n",
      "\u001b[31mIndexError\u001b[39m: list index out of range",
      "\nDuring handling of the above exception, another exception occurred:\n",
      "\u001b[31mArrowInvalid\u001b[39m                              Traceback (most recent call last)",
      "\u001b[36mFile \u001b[39m\u001b[32mf:\\shenkar\\pagmar\\venv\\Lib\\site-packages\\datasets\\arrow_writer.py:228\u001b[39m, in \u001b[36mTypedSequence.__arrow_array__\u001b[39m\u001b[34m(self, type)\u001b[39m\n\u001b[32m    227\u001b[39m     trying_cast_to_python_objects = \u001b[38;5;28;01mTrue\u001b[39;00m\n\u001b[32m--> \u001b[39m\u001b[32m228\u001b[39m     out = \u001b[43mpa\u001b[49m\u001b[43m.\u001b[49m\u001b[43marray\u001b[49m\u001b[43m(\u001b[49m\u001b[43mcast_to_python_objects\u001b[49m\u001b[43m(\u001b[49m\u001b[43mdata\u001b[49m\u001b[43m,\u001b[49m\u001b[43m \u001b[49m\u001b[43monly_1d_for_numpy\u001b[49m\u001b[43m=\u001b[49m\u001b[38;5;28;43;01mTrue\u001b[39;49;00m\u001b[43m)\u001b[49m\u001b[43m)\u001b[49m\n\u001b[32m    229\u001b[39m \u001b[38;5;66;03m# use smaller integer precisions if possible\u001b[39;00m\n",
      "\u001b[36mFile \u001b[39m\u001b[32mf:\\shenkar\\pagmar\\venv\\Lib\\site-packages\\pyarrow\\array.pxi:372\u001b[39m, in \u001b[36mpyarrow.lib.array\u001b[39m\u001b[34m()\u001b[39m\n",
      "\u001b[36mFile \u001b[39m\u001b[32mf:\\shenkar\\pagmar\\venv\\Lib\\site-packages\\pyarrow\\array.pxi:42\u001b[39m, in \u001b[36mpyarrow.lib._sequence_to_array\u001b[39m\u001b[34m()\u001b[39m\n",
      "\u001b[36mFile \u001b[39m\u001b[32mf:\\shenkar\\pagmar\\venv\\Lib\\site-packages\\pyarrow\\error.pxi:155\u001b[39m, in \u001b[36mpyarrow.lib.pyarrow_internal_check_status\u001b[39m\u001b[34m()\u001b[39m\n",
      "\u001b[36mFile \u001b[39m\u001b[32mf:\\shenkar\\pagmar\\venv\\Lib\\site-packages\\pyarrow\\error.pxi:92\u001b[39m, in \u001b[36mpyarrow.lib.check_status\u001b[39m\u001b[34m()\u001b[39m\n",
      "\u001b[31mArrowInvalid\u001b[39m: Could not convert 'B-QUESTION_TYPE' with type str: tried to convert to int64",
      "\nDuring handling of the above exception, another exception occurred:\n",
      "\u001b[31mArrowInvalid\u001b[39m                              Traceback (most recent call last)",
      "\u001b[36mCell\u001b[39m\u001b[36m \u001b[39m\u001b[32mIn[9]\u001b[39m\u001b[32m, line 24\u001b[39m\n\u001b[32m     21\u001b[39m     \u001b[38;5;28;01mreturn\u001b[39;00m tokenized_inputs\n\u001b[32m     23\u001b[39m \u001b[38;5;66;03m# Apply tokenization to dataset\u001b[39;00m\n\u001b[32m---> \u001b[39m\u001b[32m24\u001b[39m dataset = \u001b[43mdataset\u001b[49m\u001b[43m.\u001b[49m\u001b[43mmap\u001b[49m\u001b[43m(\u001b[49m\u001b[43mtokenize_and_align_labels\u001b[49m\u001b[43m)\u001b[49m\n\u001b[32m     25\u001b[39m dataset = dataset.train_test_split(test_size=\u001b[32m0.1\u001b[39m) \n",
      "\u001b[36mFile \u001b[39m\u001b[32mf:\\shenkar\\pagmar\\venv\\Lib\\site-packages\\datasets\\arrow_dataset.py:562\u001b[39m, in \u001b[36mtransmit_format.<locals>.wrapper\u001b[39m\u001b[34m(*args, **kwargs)\u001b[39m\n\u001b[32m    555\u001b[39m self_format = {\n\u001b[32m    556\u001b[39m     \u001b[33m\"\u001b[39m\u001b[33mtype\u001b[39m\u001b[33m\"\u001b[39m: \u001b[38;5;28mself\u001b[39m._format_type,\n\u001b[32m    557\u001b[39m     \u001b[33m\"\u001b[39m\u001b[33mformat_kwargs\u001b[39m\u001b[33m\"\u001b[39m: \u001b[38;5;28mself\u001b[39m._format_kwargs,\n\u001b[32m    558\u001b[39m     \u001b[33m\"\u001b[39m\u001b[33mcolumns\u001b[39m\u001b[33m\"\u001b[39m: \u001b[38;5;28mself\u001b[39m._format_columns,\n\u001b[32m    559\u001b[39m     \u001b[33m\"\u001b[39m\u001b[33moutput_all_columns\u001b[39m\u001b[33m\"\u001b[39m: \u001b[38;5;28mself\u001b[39m._output_all_columns,\n\u001b[32m    560\u001b[39m }\n\u001b[32m    561\u001b[39m \u001b[38;5;66;03m# apply actual function\u001b[39;00m\n\u001b[32m--> \u001b[39m\u001b[32m562\u001b[39m out: Union[\u001b[33m\"\u001b[39m\u001b[33mDataset\u001b[39m\u001b[33m\"\u001b[39m, \u001b[33m\"\u001b[39m\u001b[33mDatasetDict\u001b[39m\u001b[33m\"\u001b[39m] = \u001b[43mfunc\u001b[49m\u001b[43m(\u001b[49m\u001b[38;5;28;43mself\u001b[39;49m\u001b[43m,\u001b[49m\u001b[43m \u001b[49m\u001b[43m*\u001b[49m\u001b[43margs\u001b[49m\u001b[43m,\u001b[49m\u001b[43m \u001b[49m\u001b[43m*\u001b[49m\u001b[43m*\u001b[49m\u001b[43mkwargs\u001b[49m\u001b[43m)\u001b[49m\n\u001b[32m    563\u001b[39m datasets: List[\u001b[33m\"\u001b[39m\u001b[33mDataset\u001b[39m\u001b[33m\"\u001b[39m] = \u001b[38;5;28mlist\u001b[39m(out.values()) \u001b[38;5;28;01mif\u001b[39;00m \u001b[38;5;28misinstance\u001b[39m(out, \u001b[38;5;28mdict\u001b[39m) \u001b[38;5;28;01melse\u001b[39;00m [out]\n\u001b[32m    564\u001b[39m \u001b[38;5;66;03m# re-apply format to the output\u001b[39;00m\n",
      "\u001b[36mFile \u001b[39m\u001b[32mf:\\shenkar\\pagmar\\venv\\Lib\\site-packages\\datasets\\arrow_dataset.py:3079\u001b[39m, in \u001b[36mDataset.map\u001b[39m\u001b[34m(self, function, with_indices, with_rank, input_columns, batched, batch_size, drop_last_batch, remove_columns, keep_in_memory, load_from_cache_file, cache_file_name, writer_batch_size, features, disable_nullable, fn_kwargs, num_proc, suffix_template, new_fingerprint, desc)\u001b[39m\n\u001b[32m   3073\u001b[39m \u001b[38;5;28;01mif\u001b[39;00m transformed_dataset \u001b[38;5;129;01mis\u001b[39;00m \u001b[38;5;28;01mNone\u001b[39;00m:\n\u001b[32m   3074\u001b[39m     \u001b[38;5;28;01mwith\u001b[39;00m hf_tqdm(\n\u001b[32m   3075\u001b[39m         unit=\u001b[33m\"\u001b[39m\u001b[33m examples\u001b[39m\u001b[33m\"\u001b[39m,\n\u001b[32m   3076\u001b[39m         total=pbar_total,\n\u001b[32m   3077\u001b[39m         desc=desc \u001b[38;5;129;01mor\u001b[39;00m \u001b[33m\"\u001b[39m\u001b[33mMap\u001b[39m\u001b[33m\"\u001b[39m,\n\u001b[32m   3078\u001b[39m     ) \u001b[38;5;28;01mas\u001b[39;00m pbar:\n\u001b[32m-> \u001b[39m\u001b[32m3079\u001b[39m \u001b[43m        \u001b[49m\u001b[38;5;28;43;01mfor\u001b[39;49;00m\u001b[43m \u001b[49m\u001b[43mrank\u001b[49m\u001b[43m,\u001b[49m\u001b[43m \u001b[49m\u001b[43mdone\u001b[49m\u001b[43m,\u001b[49m\u001b[43m \u001b[49m\u001b[43mcontent\u001b[49m\u001b[43m \u001b[49m\u001b[38;5;129;43;01min\u001b[39;49;00m\u001b[43m \u001b[49m\u001b[43mDataset\u001b[49m\u001b[43m.\u001b[49m\u001b[43m_map_single\u001b[49m\u001b[43m(\u001b[49m\u001b[43m*\u001b[49m\u001b[43m*\u001b[49m\u001b[43mdataset_kwargs\u001b[49m\u001b[43m)\u001b[49m\u001b[43m:\u001b[49m\n\u001b[32m   3080\u001b[39m \u001b[43m            \u001b[49m\u001b[38;5;28;43;01mif\u001b[39;49;00m\u001b[43m \u001b[49m\u001b[43mdone\u001b[49m\u001b[43m:\u001b[49m\n\u001b[32m   3081\u001b[39m \u001b[43m                \u001b[49m\u001b[43mshards_done\u001b[49m\u001b[43m \u001b[49m\u001b[43m+\u001b[49m\u001b[43m=\u001b[49m\u001b[43m \u001b[49m\u001b[32;43m1\u001b[39;49m\n",
      "\u001b[36mFile \u001b[39m\u001b[32mf:\\shenkar\\pagmar\\venv\\Lib\\site-packages\\datasets\\arrow_dataset.py:3546\u001b[39m, in \u001b[36mDataset._map_single\u001b[39m\u001b[34m(shard, function, with_indices, with_rank, input_columns, batched, batch_size, drop_last_batch, remove_columns, keep_in_memory, cache_file_name, writer_batch_size, features, disable_nullable, fn_kwargs, new_fingerprint, rank, offset)\u001b[39m\n\u001b[32m   3544\u001b[39m \u001b[38;5;28;01mif\u001b[39;00m update_data:\n\u001b[32m   3545\u001b[39m     \u001b[38;5;28;01mif\u001b[39;00m writer \u001b[38;5;129;01mis\u001b[39;00m \u001b[38;5;129;01mnot\u001b[39;00m \u001b[38;5;28;01mNone\u001b[39;00m:\n\u001b[32m-> \u001b[39m\u001b[32m3546\u001b[39m         \u001b[43mwriter\u001b[49m\u001b[43m.\u001b[49m\u001b[43mfinalize\u001b[49m\u001b[43m(\u001b[49m\u001b[43m)\u001b[49m\n\u001b[32m   3547\u001b[39m     \u001b[38;5;28;01mif\u001b[39;00m tmp_file \u001b[38;5;129;01mis\u001b[39;00m \u001b[38;5;129;01mnot\u001b[39;00m \u001b[38;5;28;01mNone\u001b[39;00m:\n\u001b[32m   3548\u001b[39m         tmp_file.close()\n",
      "\u001b[36mFile \u001b[39m\u001b[32mf:\\shenkar\\pagmar\\venv\\Lib\\site-packages\\datasets\\arrow_writer.py:636\u001b[39m, in \u001b[36mArrowWriter.finalize\u001b[39m\u001b[34m(self, close_stream)\u001b[39m\n\u001b[32m    634\u001b[39m     \u001b[38;5;66;03m# Re-intializing to empty list for next batch\u001b[39;00m\n\u001b[32m    635\u001b[39m     \u001b[38;5;28mself\u001b[39m.hkey_record = []\n\u001b[32m--> \u001b[39m\u001b[32m636\u001b[39m \u001b[38;5;28;43mself\u001b[39;49m\u001b[43m.\u001b[49m\u001b[43mwrite_examples_on_file\u001b[49m\u001b[43m(\u001b[49m\u001b[43m)\u001b[49m\n\u001b[32m    637\u001b[39m \u001b[38;5;66;03m# If schema is known, infer features even if no examples were written\u001b[39;00m\n\u001b[32m    638\u001b[39m \u001b[38;5;28;01mif\u001b[39;00m \u001b[38;5;28mself\u001b[39m.pa_writer \u001b[38;5;129;01mis\u001b[39;00m \u001b[38;5;28;01mNone\u001b[39;00m \u001b[38;5;129;01mand\u001b[39;00m \u001b[38;5;28mself\u001b[39m.schema:\n",
      "\u001b[36mFile \u001b[39m\u001b[32mf:\\shenkar\\pagmar\\venv\\Lib\\site-packages\\datasets\\arrow_writer.py:495\u001b[39m, in \u001b[36mArrowWriter.write_examples_on_file\u001b[39m\u001b[34m(self)\u001b[39m\n\u001b[32m    490\u001b[39m     \u001b[38;5;28;01melse\u001b[39;00m:\n\u001b[32m    491\u001b[39m         batch_examples[col] = [\n\u001b[32m    492\u001b[39m             row[\u001b[32m0\u001b[39m][col].to_pylist()[\u001b[32m0\u001b[39m] \u001b[38;5;28;01mif\u001b[39;00m \u001b[38;5;28misinstance\u001b[39m(row[\u001b[32m0\u001b[39m][col], (pa.Array, pa.ChunkedArray)) \u001b[38;5;28;01melse\u001b[39;00m row[\u001b[32m0\u001b[39m][col]\n\u001b[32m    493\u001b[39m             \u001b[38;5;28;01mfor\u001b[39;00m row \u001b[38;5;129;01min\u001b[39;00m \u001b[38;5;28mself\u001b[39m.current_examples\n\u001b[32m    494\u001b[39m         ]\n\u001b[32m--> \u001b[39m\u001b[32m495\u001b[39m \u001b[38;5;28;43mself\u001b[39;49m\u001b[43m.\u001b[49m\u001b[43mwrite_batch\u001b[49m\u001b[43m(\u001b[49m\u001b[43mbatch_examples\u001b[49m\u001b[43m=\u001b[49m\u001b[43mbatch_examples\u001b[49m\u001b[43m)\u001b[49m\n\u001b[32m    496\u001b[39m \u001b[38;5;28mself\u001b[39m.current_examples = []\n",
      "\u001b[36mFile \u001b[39m\u001b[32mf:\\shenkar\\pagmar\\venv\\Lib\\site-packages\\datasets\\arrow_writer.py:605\u001b[39m, in \u001b[36mArrowWriter.write_batch\u001b[39m\u001b[34m(self, batch_examples, writer_batch_size)\u001b[39m\n\u001b[32m    603\u001b[39m         col_try_type = try_features[col] \u001b[38;5;28;01mif\u001b[39;00m try_features \u001b[38;5;129;01mis\u001b[39;00m \u001b[38;5;129;01mnot\u001b[39;00m \u001b[38;5;28;01mNone\u001b[39;00m \u001b[38;5;129;01mand\u001b[39;00m col \u001b[38;5;129;01min\u001b[39;00m try_features \u001b[38;5;28;01melse\u001b[39;00m \u001b[38;5;28;01mNone\u001b[39;00m\n\u001b[32m    604\u001b[39m         typed_sequence = OptimizedTypedSequence(col_values, \u001b[38;5;28mtype\u001b[39m=col_type, try_type=col_try_type, col=col)\n\u001b[32m--> \u001b[39m\u001b[32m605\u001b[39m         arrays.append(\u001b[43mpa\u001b[49m\u001b[43m.\u001b[49m\u001b[43marray\u001b[49m\u001b[43m(\u001b[49m\u001b[43mtyped_sequence\u001b[49m\u001b[43m)\u001b[49m)\n\u001b[32m    606\u001b[39m         inferred_features[col] = typed_sequence.get_inferred_type()\n\u001b[32m    607\u001b[39m schema = inferred_features.arrow_schema \u001b[38;5;28;01mif\u001b[39;00m \u001b[38;5;28mself\u001b[39m.pa_writer \u001b[38;5;129;01mis\u001b[39;00m \u001b[38;5;28;01mNone\u001b[39;00m \u001b[38;5;28;01melse\u001b[39;00m \u001b[38;5;28mself\u001b[39m.schema\n",
      "\u001b[36mFile \u001b[39m\u001b[32mf:\\shenkar\\pagmar\\venv\\Lib\\site-packages\\pyarrow\\array.pxi:252\u001b[39m, in \u001b[36mpyarrow.lib.array\u001b[39m\u001b[34m()\u001b[39m\n",
      "\u001b[36mFile \u001b[39m\u001b[32mf:\\shenkar\\pagmar\\venv\\Lib\\site-packages\\pyarrow\\array.pxi:114\u001b[39m, in \u001b[36mpyarrow.lib._handle_arrow_array_protocol\u001b[39m\u001b[34m()\u001b[39m\n",
      "\u001b[36mFile \u001b[39m\u001b[32mf:\\shenkar\\pagmar\\venv\\Lib\\site-packages\\datasets\\arrow_writer.py:296\u001b[39m, in \u001b[36mTypedSequence.__arrow_array__\u001b[39m\u001b[34m(self, type)\u001b[39m\n\u001b[32m    294\u001b[39m     \u001b[38;5;28;01mreturn\u001b[39;00m out\n\u001b[32m    295\u001b[39m \u001b[38;5;28;01melif\u001b[39;00m trying_cast_to_python_objects \u001b[38;5;129;01mand\u001b[39;00m \u001b[33m\"\u001b[39m\u001b[33mCould not convert\u001b[39m\u001b[33m\"\u001b[39m \u001b[38;5;129;01min\u001b[39;00m \u001b[38;5;28mstr\u001b[39m(e):\n\u001b[32m--> \u001b[39m\u001b[32m296\u001b[39m     out = \u001b[43mpa\u001b[49m\u001b[43m.\u001b[49m\u001b[43marray\u001b[49m\u001b[43m(\u001b[49m\u001b[43mcast_to_python_objects\u001b[49m\u001b[43m(\u001b[49m\u001b[43mdata\u001b[49m\u001b[43m,\u001b[49m\u001b[43m \u001b[49m\u001b[43monly_1d_for_numpy\u001b[49m\u001b[43m=\u001b[49m\u001b[38;5;28;43;01mTrue\u001b[39;49;00m\u001b[43m,\u001b[49m\u001b[43m \u001b[49m\u001b[43moptimize_list_casting\u001b[49m\u001b[43m=\u001b[49m\u001b[38;5;28;43;01mFalse\u001b[39;49;00m\u001b[43m)\u001b[49m\u001b[43m)\u001b[49m\n\u001b[32m    297\u001b[39m     \u001b[38;5;28;01mif\u001b[39;00m \u001b[38;5;28mtype\u001b[39m \u001b[38;5;129;01mis\u001b[39;00m \u001b[38;5;129;01mnot\u001b[39;00m \u001b[38;5;28;01mNone\u001b[39;00m:\n\u001b[32m    298\u001b[39m         out = cast_array_to_feature(out, \u001b[38;5;28mtype\u001b[39m, allow_primitive_to_str=\u001b[38;5;28;01mTrue\u001b[39;00m, allow_decimal_to_str=\u001b[38;5;28;01mTrue\u001b[39;00m)\n",
      "\u001b[36mFile \u001b[39m\u001b[32mf:\\shenkar\\pagmar\\venv\\Lib\\site-packages\\pyarrow\\array.pxi:372\u001b[39m, in \u001b[36mpyarrow.lib.array\u001b[39m\u001b[34m()\u001b[39m\n",
      "\u001b[36mFile \u001b[39m\u001b[32mf:\\shenkar\\pagmar\\venv\\Lib\\site-packages\\pyarrow\\array.pxi:42\u001b[39m, in \u001b[36mpyarrow.lib._sequence_to_array\u001b[39m\u001b[34m()\u001b[39m\n",
      "\u001b[36mFile \u001b[39m\u001b[32mf:\\shenkar\\pagmar\\venv\\Lib\\site-packages\\pyarrow\\error.pxi:155\u001b[39m, in \u001b[36mpyarrow.lib.pyarrow_internal_check_status\u001b[39m\u001b[34m()\u001b[39m\n",
      "\u001b[36mFile \u001b[39m\u001b[32mf:\\shenkar\\pagmar\\venv\\Lib\\site-packages\\pyarrow\\error.pxi:92\u001b[39m, in \u001b[36mpyarrow.lib.check_status\u001b[39m\u001b[34m()\u001b[39m\n",
      "\u001b[31mArrowInvalid\u001b[39m: Could not convert 'B-QUESTION_TYPE' with type str: tried to convert to int64"
     ]
    }
   ],
   "source": [
    "\n",
    "\n",
    "def tokenize_and_align_labels(example):\n",
    "    tokenized_inputs = tokenizer(example[\"tokens\"], is_split_into_words=True, truncation=True)\n",
    "\n",
    "    labels = []\n",
    "    word_ids = tokenized_inputs.word_ids()\n",
    "    ner_tags = example[\"ner_tags\"]\n",
    "\n",
    "    previous_word_idx = None\n",
    "    for word_idx in word_ids:\n",
    "        if word_idx is None:\n",
    "            labels.append(-100)  # Ignore special tokens\n",
    "        elif word_idx != previous_word_idx:\n",
    "            labels.append(ner_tags[word_idx])  # Assign NER tag\n",
    "        else:\n",
    "            labels.append(-100)  # Ignore subwords\n",
    "\n",
    "        previous_word_idx = word_idx\n",
    "\n",
    "    tokenized_inputs[\"labels\"] = labels\n",
    "    tokenized_inputs[\"intent_label\"] = example[\"intent\"]  # Add intent label\n",
    "    return tokenized_inputs\n",
    "\n",
    "# Apply tokenization to dataset\n",
    "dataset = dataset.map(tokenize_and_align_labels)\n",
    "dataset = dataset.train_test_split(test_size=0.1) \n"
   ]
  },
  {
   "cell_type": "code",
   "execution_count": 105,
   "metadata": {},
   "outputs": [],
   "source": [
    "from transformers import AutoTokenizer\n",
    "\n",
    "model_checkpoint = \"Davlan/xlm-roberta-base-ner-hrl\"\n",
    "tokenizer = AutoTokenizer.from_pretrained(model_checkpoint)"
   ]
  },
  {
   "cell_type": "code",
   "execution_count": null,
   "metadata": {},
   "outputs": [
    {
     "name": "stderr",
     "output_type": "stream",
     "text": [
      "Map: 100%|██████████| 126/126 [00:00<00:00, 3532.82 examples/s]\n",
      "Map: 100%|██████████| 15/15 [00:00<00:00, 2194.52 examples/s]\n"
     ]
    }
   ],
   "source": [
    "def tokenize_and_align_labels(example):\n",
    "    tokenized_inputs = tokenizer(example[\"tokens\"], is_split_into_words=True, truncation=True)\n",
    "\n",
    "    labels = []\n",
    "    word_ids = tokenized_inputs.word_ids()  # Maps subwords to words\n",
    "    ner_tags = example[\"ner_tags\"]  # Original labels\n",
    "\n",
    "    previous_word_idx = None\n",
    "    for word_idx in word_ids:\n",
    "        if word_idx is None:\n",
    "            labels.append(-100)  # Ignore special tokens\n",
    "        elif word_idx != previous_word_idx:\n",
    "            if word_idx < len(ner_tags):\n",
    "                labels.append(label2id[ner_tags[word_idx]])  # Assign full label to first subword\n",
    "            else:\n",
    "                labels.append(-100)  # Handle rare out-of-bounds cases\n",
    "        else:\n",
    "            if word_idx < len(ner_tags):\n",
    "                labels.append(label2id[ner_tags[word_idx]])  # Keep the same label\n",
    "            else:\n",
    "                labels.append(-100)\n",
    "\n",
    "        previous_word_idx = word_idx\n",
    "\n",
    "    tokenized_inputs[\"labels\"] = labels\n",
    "    return tokenized_inputs\n",
    "\n",
    "\n",
    "train_dataset = train_dataset.map(tokenize_and_align_labels)\n",
    "test_dataset = test_dataset.map(tokenize_and_align_labels)"
   ]
  },
  {
   "cell_type": "markdown",
   "metadata": {},
   "source": [
    "# Checking if the mapping was done successfully:"
   ]
  },
  {
   "cell_type": "code",
   "execution_count": 122,
   "metadata": {},
   "outputs": [
    {
     "name": "stdout",
     "output_type": "stream",
     "text": [
      "<s>             --> IGNORED\n",
      "▁Has            --> B-QUESTION_TYPE\n",
      "▁there          --> I-QUESTION_TYPE\n",
      "▁been           --> O\n",
      "▁any            --> O\n",
      "▁drill          --> B-ALERT_TYPE\n",
      "▁alert          --> I-ALERT_TYPE\n",
      "s               --> I-ALERT_TYPE\n",
      "▁this           --> B-TIME_FRAME\n",
      "▁month          --> I-TIME_FRAME\n",
      "▁?              --> O\n",
      "</s>            --> IGNORED\n"
     ]
    }
   ],
   "source": [
    "sample = train_dataset[100]  # Get the first example\n",
    "tokens = tokenizer.convert_ids_to_tokens(sample[\"input_ids\"])  # Convert token IDs to words\n",
    "labels = sample[\"labels\"]  # Get corresponding labels\n",
    "\n",
    "for token, label in zip(tokens, labels):\n",
    "    print(f\"{token:15} --> {id2label.get(label, 'IGNORED')}\")\n"
   ]
  },
  {
   "cell_type": "code",
   "execution_count": 123,
   "metadata": {},
   "outputs": [
    {
     "name": "stderr",
     "output_type": "stream",
     "text": [
      "Some weights of XLMRobertaForTokenClassification were not initialized from the model checkpoint at Davlan/xlm-roberta-base-ner-hrl and are newly initialized because the shapes did not match:\n",
      "- classifier.bias: found shape torch.Size([9]) in the checkpoint and torch.Size([17]) in the model instantiated\n",
      "- classifier.weight: found shape torch.Size([9, 768]) in the checkpoint and torch.Size([17, 768]) in the model instantiated\n",
      "You should probably TRAIN this model on a down-stream task to be able to use it for predictions and inference.\n"
     ]
    }
   ],
   "source": [
    "from transformers import AutoModelForTokenClassification\n",
    "\n",
    "model = AutoModelForTokenClassification.from_pretrained(\n",
    "    model_checkpoint,\n",
    "    num_labels=len(label2id),\n",
    "    id2label=id2label,\n",
    "    label2id=label2id,\n",
    "    ignore_mismatched_sizes=True \n",
    ")\n"
   ]
  },
  {
   "cell_type": "code",
   "execution_count": null,
   "metadata": {},
   "outputs": [
    {
     "name": "stdout",
     "output_type": "stream",
     "text": [
      "Label to ID Mapping: {'I-DATE': 0, 'I-ALERT_TYPE': 1, 'I-QUESTION_TYPE': 2, 'I-ACTION': 3, 'B-COMP_OP': 4, 'I-LOCATION': 5, 'I-COMP_OP': 6, 'O': 7, 'B-COUNT': 8, 'B-ACTION': 9, 'B-TIME_FRAME': 10, 'B-LOGIC_OP': 11, 'B-LOCATION': 12, 'B-ALERT_TYPE': 13, 'B-DATE': 14, 'B-QUESTION_TYPE': 15, 'I-TIME_FRAME': 16}\n",
      "ID to Label Mapping: {0: 'I-DATE', 1: 'I-ALERT_TYPE', 2: 'I-QUESTION_TYPE', 3: 'I-ACTION', 4: 'B-COMP_OP', 5: 'I-LOCATION', 6: 'I-COMP_OP', 7: 'O', 8: 'B-COUNT', 9: 'B-ACTION', 10: 'B-TIME_FRAME', 11: 'B-LOGIC_OP', 12: 'B-LOCATION', 13: 'B-ALERT_TYPE', 14: 'B-DATE', 15: 'B-QUESTION_TYPE', 16: 'I-TIME_FRAME'}\n",
      "Number of Labels: 17\n"
     ]
    }
   ],
   "source": [
    "print(\"Label to ID Mapping:\",\n",
    "            label2id)\n",
    "print(\"ID to Label Mapping:\", id2label)\n",
    "print(\"Number of Labels:\", len(label2id))"
   ]
  },
  {
   "cell_type": "code",
   "execution_count": null,
   "metadata": {},
   "outputs": [],
   "source": [
    "from transformers import TrainingArguments\n",
    "\n",
    "training_args = TrainingArguments(\n",
    "    output_dir=\"./ner_bert_model\",\n",
    "    evaluation_strategy=\"epoch\",\n",
    "    save_strategy=\"epoch\",\n",
    "    learning_rate=2e-5,\n",
    "    per_device_train_batch_size=8,\n",
    "    per_device_eval_batch_size=8,\n",
    "    num_train_epochs=5,  # Adjust as needed\n",
    "    weight_decay=0.01,\n",
    "    push_to_hub=False,\n",
    ")\n"
   ]
  },
  {
   "cell_type": "code",
   "execution_count": 126,
   "metadata": {},
   "outputs": [],
   "source": [
    "from transformers import Trainer, DataCollatorForTokenClassification\n",
    "\n",
    "data_collator = DataCollatorForTokenClassification(tokenizer)\n",
    "\n",
    "trainer = Trainer(\n",
    "    model=model,\n",
    "    args=training_args,\n",
    "    train_dataset=train_dataset,\n",
    "    eval_dataset=test_dataset,\n",
    "    data_collator=data_collator,\n",
    ")\n"
   ]
  },
  {
   "cell_type": "code",
   "execution_count": 127,
   "metadata": {},
   "outputs": [
    {
     "data": {
      "text/html": [
       "\n",
       "    <div>\n",
       "      \n",
       "      <progress value='80' max='80' style='width:300px; height:20px; vertical-align: middle;'></progress>\n",
       "      [80/80 02:49, Epoch 5/5]\n",
       "    </div>\n",
       "    <table border=\"1\" class=\"dataframe\">\n",
       "  <thead>\n",
       " <tr style=\"text-align: left;\">\n",
       "      <th>Epoch</th>\n",
       "      <th>Training Loss</th>\n",
       "      <th>Validation Loss</th>\n",
       "    </tr>\n",
       "  </thead>\n",
       "  <tbody>\n",
       "    <tr>\n",
       "      <td>1</td>\n",
       "      <td>No log</td>\n",
       "      <td>1.524294</td>\n",
       "    </tr>\n",
       "    <tr>\n",
       "      <td>2</td>\n",
       "      <td>No log</td>\n",
       "      <td>0.990573</td>\n",
       "    </tr>\n",
       "    <tr>\n",
       "      <td>3</td>\n",
       "      <td>No log</td>\n",
       "      <td>0.744712</td>\n",
       "    </tr>\n",
       "    <tr>\n",
       "      <td>4</td>\n",
       "      <td>No log</td>\n",
       "      <td>0.642047</td>\n",
       "    </tr>\n",
       "    <tr>\n",
       "      <td>5</td>\n",
       "      <td>No log</td>\n",
       "      <td>0.603096</td>\n",
       "    </tr>\n",
       "  </tbody>\n",
       "</table><p>"
      ],
      "text/plain": [
       "<IPython.core.display.HTML object>"
      ]
     },
     "metadata": {},
     "output_type": "display_data"
    },
    {
     "data": {
      "text/plain": [
       "TrainOutput(global_step=80, training_loss=1.1941350936889648, metrics={'train_runtime': 172.0099, 'train_samples_per_second': 3.663, 'train_steps_per_second': 0.465, 'total_flos': 6023911197276.0, 'train_loss': 1.1941350936889648, 'epoch': 5.0})"
      ]
     },
     "execution_count": 127,
     "metadata": {},
     "output_type": "execute_result"
    }
   ],
   "source": [
    "trainer.train()"
   ]
  },
  {
   "cell_type": "code",
   "execution_count": 132,
   "metadata": {},
   "outputs": [
    {
     "name": "stdout",
     "output_type": "stream",
     "text": [
      "Collecting evaluate\n",
      "  Downloading evaluate-0.4.3-py3-none-any.whl.metadata (9.2 kB)\n",
      "Requirement already satisfied: datasets>=2.0.0 in .\\venv\\lib\\site-packages (from evaluate) (3.3.2)\n",
      "Requirement already satisfied: numpy>=1.17 in .\\venv\\lib\\site-packages (from evaluate) (2.2.2)\n",
      "Requirement already satisfied: dill in .\\venv\\lib\\site-packages (from evaluate) (0.3.8)\n",
      "Requirement already satisfied: pandas in .\\venv\\lib\\site-packages (from evaluate) (2.2.3)\n",
      "Requirement already satisfied: requests>=2.19.0 in .\\venv\\lib\\site-packages (from evaluate) (2.32.3)\n",
      "Requirement already satisfied: tqdm>=4.62.1 in .\\venv\\lib\\site-packages (from evaluate) (4.67.1)\n",
      "Requirement already satisfied: xxhash in .\\venv\\lib\\site-packages (from evaluate) (3.5.0)\n",
      "Requirement already satisfied: multiprocess in .\\venv\\lib\\site-packages (from evaluate) (0.70.16)\n",
      "Requirement already satisfied: fsspec>=2021.05.0 in .\\venv\\lib\\site-packages (from fsspec[http]>=2021.05.0->evaluate) (2024.9.0)\n",
      "Requirement already satisfied: huggingface-hub>=0.7.0 in .\\venv\\lib\\site-packages (from evaluate) (0.28.1)\n",
      "Requirement already satisfied: packaging in .\\venv\\lib\\site-packages (from evaluate) (24.2)\n",
      "Requirement already satisfied: filelock in .\\venv\\lib\\site-packages (from datasets>=2.0.0->evaluate) (3.17.0)\n",
      "Requirement already satisfied: pyarrow>=15.0.0 in .\\venv\\lib\\site-packages (from datasets>=2.0.0->evaluate) (19.0.0)\n",
      "Requirement already satisfied: aiohttp in .\\venv\\lib\\site-packages (from datasets>=2.0.0->evaluate) (3.11.12)\n",
      "Requirement already satisfied: pyyaml>=5.1 in .\\venv\\lib\\site-packages (from datasets>=2.0.0->evaluate) (6.0.2)\n",
      "Requirement already satisfied: typing-extensions>=3.7.4.3 in .\\venv\\lib\\site-packages (from huggingface-hub>=0.7.0->evaluate) (4.12.2)\n",
      "Requirement already satisfied: charset-normalizer<4,>=2 in .\\venv\\lib\\site-packages (from requests>=2.19.0->evaluate) (3.4.1)\n",
      "Requirement already satisfied: idna<4,>=2.5 in .\\venv\\lib\\site-packages (from requests>=2.19.0->evaluate) (3.10)\n",
      "Requirement already satisfied: urllib3<3,>=1.21.1 in .\\venv\\lib\\site-packages (from requests>=2.19.0->evaluate) (2.3.0)\n",
      "Requirement already satisfied: certifi>=2017.4.17 in .\\venv\\lib\\site-packages (from requests>=2.19.0->evaluate) (2025.1.31)\n",
      "Requirement already satisfied: colorama in .\\venv\\lib\\site-packages (from tqdm>=4.62.1->evaluate) (0.4.6)\n",
      "Requirement already satisfied: python-dateutil>=2.8.2 in .\\venv\\lib\\site-packages (from pandas->evaluate) (2.9.0.post0)\n",
      "Requirement already satisfied: pytz>=2020.1 in .\\venv\\lib\\site-packages (from pandas->evaluate) (2025.1)\n",
      "Requirement already satisfied: tzdata>=2022.7 in .\\venv\\lib\\site-packages (from pandas->evaluate) (2025.1)\n",
      "Requirement already satisfied: aiohappyeyeballs>=2.3.0 in .\\venv\\lib\\site-packages (from aiohttp->datasets>=2.0.0->evaluate) (2.4.6)\n",
      "Requirement already satisfied: aiosignal>=1.1.2 in .\\venv\\lib\\site-packages (from aiohttp->datasets>=2.0.0->evaluate) (1.3.2)\n",
      "Requirement already satisfied: attrs>=17.3.0 in .\\venv\\lib\\site-packages (from aiohttp->datasets>=2.0.0->evaluate) (25.1.0)\n",
      "Requirement already satisfied: frozenlist>=1.1.1 in .\\venv\\lib\\site-packages (from aiohttp->datasets>=2.0.0->evaluate) (1.5.0)\n",
      "Requirement already satisfied: multidict<7.0,>=4.5 in .\\venv\\lib\\site-packages (from aiohttp->datasets>=2.0.0->evaluate) (6.1.0)\n",
      "Requirement already satisfied: propcache>=0.2.0 in .\\venv\\lib\\site-packages (from aiohttp->datasets>=2.0.0->evaluate) (0.2.1)\n",
      "Requirement already satisfied: yarl<2.0,>=1.17.0 in .\\venv\\lib\\site-packages (from aiohttp->datasets>=2.0.0->evaluate) (1.18.3)\n",
      "Requirement already satisfied: six>=1.5 in .\\venv\\lib\\site-packages (from python-dateutil>=2.8.2->pandas->evaluate) (1.17.0)\n",
      "Downloading evaluate-0.4.3-py3-none-any.whl (84 kB)\n",
      "   ---------------------------------------- 0.0/84.0 kB ? eta -:--:--\n",
      "   ---- ----------------------------------- 10.2/84.0 kB ? eta -:--:--\n",
      "   ---- ----------------------------------- 10.2/84.0 kB ? eta -:--:--\n",
      "   ------------------- -------------------- 41.0/84.0 kB 487.6 kB/s eta 0:00:01\n",
      "   ---------------------------------------- 84.0/84.0 kB 784.8 kB/s eta 0:00:00\n",
      "Installing collected packages: evaluate\n",
      "Successfully installed evaluate-0.4.3\n"
     ]
    },
    {
     "name": "stderr",
     "output_type": "stream",
     "text": [
      "\n",
      "[notice] A new release of pip is available: 24.0 -> 25.0.1\n",
      "[notice] To update, run: python.exe -m pip install --upgrade pip\n"
     ]
    }
   ],
   "source": [
    "!pip install evaluate"
   ]
  },
  {
   "cell_type": "code",
   "execution_count": 133,
   "metadata": {},
   "outputs": [
    {
     "name": "stderr",
     "output_type": "stream",
     "text": [
      "Downloading builder script: 100%|██████████| 6.34k/6.34k [00:00<?, ?B/s]\n"
     ]
    },
    {
     "data": {
      "text/html": [
       "\n",
       "    <div>\n",
       "      \n",
       "      <progress value='2' max='2' style='width:300px; height:20px; vertical-align: middle;'></progress>\n",
       "      [2/2 00:00]\n",
       "    </div>\n",
       "    "
      ],
      "text/plain": [
       "<IPython.core.display.HTML object>"
      ]
     },
     "metadata": {},
     "output_type": "display_data"
    },
    {
     "name": "stdout",
     "output_type": "stream",
     "text": [
      "{'eval_loss': 0.603096067905426, 'eval_precision': 0.7166666666666667, 'eval_recall': 0.6825396825396826, 'eval_f1': 0.6991869918699187, 'eval_accuracy': 0.8297872340425532, 'eval_runtime': 0.1895, 'eval_samples_per_second': 79.156, 'eval_steps_per_second': 10.554, 'epoch': 5.0}\n"
     ]
    },
    {
     "name": "stderr",
     "output_type": "stream",
     "text": [
      "f:\\shenkar\\pagmar\\venv\\Lib\\site-packages\\seqeval\\metrics\\v1.py:57: UndefinedMetricWarning: Precision and F-score are ill-defined and being set to 0.0 in labels with no predicted samples. Use `zero_division` parameter to control this behavior.\n",
      "  _warn_prf(average, modifier, msg_start, len(result))\n"
     ]
    }
   ],
   "source": [
    "import numpy as np\n",
    "import evaluate  # ✅ New library for metrics\n",
    "\n",
    "# Load the seqeval metric for NER\n",
    "metric = evaluate.load(\"seqeval\")\n",
    "\n",
    "def compute_metrics(p):\n",
    "    predictions, labels = p\n",
    "    predictions = np.argmax(predictions, axis=2)\n",
    "\n",
    "    true_labels = [[id2label[l] for l in label if l != -100] for label in labels]\n",
    "    true_predictions = [[id2label[p] for p, l in zip(prediction, label) if l != -100] for prediction, label in zip(predictions, labels)]\n",
    "\n",
    "    results = metric.compute(predictions=true_predictions, references=true_labels)\n",
    "    return {\n",
    "        \"precision\": results[\"overall_precision\"],\n",
    "        \"recall\": results[\"overall_recall\"],\n",
    "        \"f1\": results[\"overall_f1\"],\n",
    "        \"accuracy\": results[\"overall_accuracy\"],\n",
    "    }\n",
    "\n",
    "trainer.compute_metrics = compute_metrics\n",
    "results = trainer.evaluate()\n",
    "print(results)\n"
   ]
  },
  {
   "cell_type": "code",
   "execution_count": 134,
   "metadata": {},
   "outputs": [
    {
     "data": {
      "text/plain": [
       "('./ner_model\\\\tokenizer_config.json',\n",
       " './ner_model\\\\special_tokens_map.json',\n",
       " './ner_model\\\\sentencepiece.bpe.model',\n",
       " './ner_model\\\\added_tokens.json',\n",
       " './ner_model\\\\tokenizer.json')"
      ]
     },
     "execution_count": 134,
     "metadata": {},
     "output_type": "execute_result"
    }
   ],
   "source": [
    "trainer.save_model(\"./ner_model\")\n",
    "tokenizer.save_pretrained(\"./ner_model\")\n"
   ]
  },
  {
   "cell_type": "code",
   "execution_count": 13,
   "metadata": {},
   "outputs": [
    {
     "name": "stderr",
     "output_type": "stream",
     "text": [
      "Device set to use cpu\n"
     ]
    },
    {
     "name": "stdout",
     "output_type": "stream",
     "text": [
      "[{'entity_group': 'QUESTION_TYPE', 'score': np.float32(0.55697435), 'word': 'كم', 'start': 0, 'end': 2}, {'entity_group': 'ALERT_TYPE', 'score': np.float32(0.5030226), 'word': 'إنذارات', 'start': 6, 'end': 14}, {'entity_group': 'ALERT_TYPE', 'score': np.float32(0.24092714), 'word': 'الص', 'start': 14, 'end': 18}, {'entity_group': 'ALERT_TYPE', 'score': np.float32(0.25940633), 'word': 'واري', 'start': 18, 'end': 22}, {'entity_group': 'ALERT_TYPE', 'score': np.float32(0.31215298), 'word': 'خ', 'start': 22, 'end': 23}, {'entity_group': 'LOCATION', 'score': np.float32(0.15332513), 'word': 'تل', 'start': 36, 'end': 39}, {'entity_group': 'LOCATION', 'score': np.float32(0.1943378), 'word': 'أبي', 'start': 39, 'end': 43}, {'entity_group': 'LOCATION', 'score': np.float32(0.21898556), 'word': 'ب', 'start': 43, 'end': 44}]\n"
     ]
    }
   ],
   "source": [
    "from transformers import pipeline\n",
    "\n",
    "nlp_ner = pipeline(\"ner\", model=\"./ner_model\", tokenizer=\"./ner_model\", aggregation_strategy=\"simple\")\n",
    "\n",
    "# text = \"can you tell me how many alerst were triggered in the last 24 hours?\"\n",
    "# text = \"תראה לי את כל התראות טילים במתן.\"\n",
    "text = \"كم عدد إنذارات الصواريخ التي كانت في تل أبيب أمس؟\"\n",
    "result = nlp_ner(text)\n",
    "print(result)\n"
   ]
  }
 ],
 "metadata": {
  "kernelspec": {
   "display_name": "venv",
   "language": "python",
   "name": "python3"
  },
  "language_info": {
   "codemirror_mode": {
    "name": "ipython",
    "version": 3
   },
   "file_extension": ".py",
   "mimetype": "text/x-python",
   "name": "python",
   "nbconvert_exporter": "python",
   "pygments_lexer": "ipython3",
   "version": "3.12.4"
  }
 },
 "nbformat": 4,
 "nbformat_minor": 2
}
