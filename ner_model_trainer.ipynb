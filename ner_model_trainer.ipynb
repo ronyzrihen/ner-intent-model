{
 "cells": [
  {
   "cell_type": "code",
   "execution_count": 169,
   "metadata": {},
   "outputs": [
    {
     "name": "stdout",
     "output_type": "stream",
     "text": [
      "Requirement already satisfied: transformers in .\\venv\\lib\\site-packages (4.48.3)\n",
      "Requirement already satisfied: datasets in .\\venv\\lib\\site-packages (3.3.2)\n",
      "Requirement already satisfied: seqeval in .\\venv\\lib\\site-packages (1.2.2)\n",
      "Requirement already satisfied: torch in .\\venv\\lib\\site-packages (2.6.0)\n",
      "Requirement already satisfied: accelerate in .\\venv\\lib\\site-packages (1.3.0)\n",
      "Requirement already satisfied: filelock in .\\venv\\lib\\site-packages (from transformers) (3.17.0)\n",
      "Requirement already satisfied: huggingface-hub<1.0,>=0.24.0 in .\\venv\\lib\\site-packages (from transformers) (0.28.1)\n",
      "Requirement already satisfied: numpy>=1.17 in .\\venv\\lib\\site-packages (from transformers) (2.2.2)\n",
      "Requirement already satisfied: packaging>=20.0 in .\\venv\\lib\\site-packages (from transformers) (24.2)\n",
      "Requirement already satisfied: pyyaml>=5.1 in .\\venv\\lib\\site-packages (from transformers) (6.0.2)\n",
      "Requirement already satisfied: regex!=2019.12.17 in .\\venv\\lib\\site-packages (from transformers) (2024.11.6)\n",
      "Requirement already satisfied: requests in .\\venv\\lib\\site-packages (from transformers) (2.32.3)\n",
      "Requirement already satisfied: tokenizers<0.22,>=0.21 in .\\venv\\lib\\site-packages (from transformers) (0.21.0)\n",
      "Requirement already satisfied: safetensors>=0.4.1 in .\\venv\\lib\\site-packages (from transformers) (0.5.2)\n",
      "Requirement already satisfied: tqdm>=4.27 in .\\venv\\lib\\site-packages (from transformers) (4.67.1)\n",
      "Requirement already satisfied: pyarrow>=15.0.0 in .\\venv\\lib\\site-packages (from datasets) (19.0.0)\n",
      "Requirement already satisfied: dill<0.3.9,>=0.3.0 in .\\venv\\lib\\site-packages (from datasets) (0.3.8)\n",
      "Requirement already satisfied: pandas in .\\venv\\lib\\site-packages (from datasets) (2.2.3)\n",
      "Requirement already satisfied: xxhash in .\\venv\\lib\\site-packages (from datasets) (3.5.0)\n",
      "Requirement already satisfied: multiprocess<0.70.17 in .\\venv\\lib\\site-packages (from datasets) (0.70.16)\n",
      "Requirement already satisfied: fsspec<=2024.12.0,>=2023.1.0 in .\\venv\\lib\\site-packages (from fsspec[http]<=2024.12.0,>=2023.1.0->datasets) (2024.9.0)\n",
      "Requirement already satisfied: aiohttp in .\\venv\\lib\\site-packages (from datasets) (3.11.12)\n",
      "Requirement already satisfied: scikit-learn>=0.21.3 in .\\venv\\lib\\site-packages (from seqeval) (1.6.1)\n",
      "Requirement already satisfied: typing-extensions>=4.10.0 in .\\venv\\lib\\site-packages (from torch) (4.12.2)\n",
      "Requirement already satisfied: networkx in .\\venv\\lib\\site-packages (from torch) (3.4.2)\n",
      "Requirement already satisfied: jinja2 in .\\venv\\lib\\site-packages (from torch) (3.1.5)\n",
      "Requirement already satisfied: setuptools in .\\venv\\lib\\site-packages (from torch) (75.8.0)\n",
      "Requirement already satisfied: sympy==1.13.1 in .\\venv\\lib\\site-packages (from torch) (1.13.1)\n",
      "Requirement already satisfied: mpmath<1.4,>=1.1.0 in .\\venv\\lib\\site-packages (from sympy==1.13.1->torch) (1.3.0)\n",
      "Requirement already satisfied: psutil in .\\venv\\lib\\site-packages (from accelerate) (6.1.1)\n",
      "Requirement already satisfied: aiohappyeyeballs>=2.3.0 in .\\venv\\lib\\site-packages (from aiohttp->datasets) (2.4.6)\n",
      "Requirement already satisfied: aiosignal>=1.1.2 in .\\venv\\lib\\site-packages (from aiohttp->datasets) (1.3.2)\n",
      "Requirement already satisfied: attrs>=17.3.0 in .\\venv\\lib\\site-packages (from aiohttp->datasets) (25.1.0)\n",
      "Requirement already satisfied: frozenlist>=1.1.1 in .\\venv\\lib\\site-packages (from aiohttp->datasets) (1.5.0)\n",
      "Requirement already satisfied: multidict<7.0,>=4.5 in .\\venv\\lib\\site-packages (from aiohttp->datasets) (6.1.0)\n",
      "Requirement already satisfied: propcache>=0.2.0 in .\\venv\\lib\\site-packages (from aiohttp->datasets) (0.2.1)\n",
      "Requirement already satisfied: yarl<2.0,>=1.17.0 in .\\venv\\lib\\site-packages (from aiohttp->datasets) (1.18.3)\n",
      "Requirement already satisfied: charset-normalizer<4,>=2 in .\\venv\\lib\\site-packages (from requests->transformers) (3.4.1)\n",
      "Requirement already satisfied: idna<4,>=2.5 in .\\venv\\lib\\site-packages (from requests->transformers) (3.10)\n",
      "Requirement already satisfied: urllib3<3,>=1.21.1 in .\\venv\\lib\\site-packages (from requests->transformers) (2.3.0)\n",
      "Requirement already satisfied: certifi>=2017.4.17 in .\\venv\\lib\\site-packages (from requests->transformers) (2025.1.31)\n",
      "Requirement already satisfied: scipy>=1.6.0 in .\\venv\\lib\\site-packages (from scikit-learn>=0.21.3->seqeval) (1.15.2)\n",
      "Requirement already satisfied: joblib>=1.2.0 in .\\venv\\lib\\site-packages (from scikit-learn>=0.21.3->seqeval) (1.4.2)\n",
      "Requirement already satisfied: threadpoolctl>=3.1.0 in .\\venv\\lib\\site-packages (from scikit-learn>=0.21.3->seqeval) (3.5.0)\n",
      "Requirement already satisfied: colorama in .\\venv\\lib\\site-packages (from tqdm>=4.27->transformers) (0.4.6)\n",
      "Requirement already satisfied: MarkupSafe>=2.0 in .\\venv\\lib\\site-packages (from jinja2->torch) (3.0.2)\n",
      "Requirement already satisfied: python-dateutil>=2.8.2 in .\\venv\\lib\\site-packages (from pandas->datasets) (2.9.0.post0)\n",
      "Requirement already satisfied: pytz>=2020.1 in .\\venv\\lib\\site-packages (from pandas->datasets) (2025.1)\n",
      "Requirement already satisfied: tzdata>=2022.7 in .\\venv\\lib\\site-packages (from pandas->datasets) (2025.1)\n",
      "Requirement already satisfied: six>=1.5 in .\\venv\\lib\\site-packages (from python-dateutil>=2.8.2->pandas->datasets) (1.17.0)\n"
     ]
    },
    {
     "name": "stderr",
     "output_type": "stream",
     "text": [
      "\n",
      "[notice] A new release of pip is available: 24.0 -> 25.0.1\n",
      "[notice] To update, run: python.exe -m pip install --upgrade pip\n"
     ]
    }
   ],
   "source": [
    "!pip install transformers datasets seqeval torch accelerate"
   ]
  },
  {
   "cell_type": "code",
   "execution_count": 200,
   "metadata": {},
   "outputs": [
    {
     "name": "stdout",
     "output_type": "stream",
     "text": [
      "289\n",
      "349\n"
     ]
    }
   ],
   "source": [
    "import json\n",
    "from datasets import Dataset\n",
    "\n",
    "# Load dataset\n",
    "# with open(\"datasets/generated_ner_dataset.json\", \"r\", encoding=\"utf-8\") as f:\n",
    "#     data = json.load(f)\n",
    "# with open(\"datasets/refined_ner_dataset.json\", \"r\", encoding=\"utf-8\") as f:\n",
    "with open(\"datasets/output.json\", \"r\", encoding=\"utf-8\") as f:\n",
    "    data = json.load(f)\n",
    "print(len(data))\n",
    "with open(\"datasets/shared/temp.json\", \"r\", encoding=\"utf-8\") as f:\n",
    "    expanded_data = json.load(f)\n",
    "# Convert to Hugging Face Dataset format\n",
    "for item in expanded_data:\n",
    "    data.append(item)\n",
    "print(len(data))\n",
    "dataset = Dataset.from_list(data)\n",
    "\n",
    "dataset = dataset.train_test_split(test_size=0.1)  # Split into train and test sets\n",
    "train_dataset = dataset[\"train\"]\n",
    "test_dataset = dataset[\"test\"]\n"
   ]
  },
  {
   "cell_type": "code",
   "execution_count": 201,
   "metadata": {},
   "outputs": [
    {
     "name": "stdout",
     "output_type": "stream",
     "text": [
      "['B-DRONE', 'I-ACTION', 'B-TERRORIST', 'B-COMP_OP', 'I-QUESTION_TYPE', '0', 'B-TITLE', 'I-ROCKT', 'B-LOCATION', 'I-DRONE', 'B-ORG', 'I-TIME_FRAME', 'B-EARTHQUAKE', 'I-LOCATION', 'I-DATE', 'B-ACTION', 'B-FIRE', 'I-COUNT', 'I-TERRORIST', 'O', 'I-EARTHQUAKE', 'I-ALERT', 'B-DATE', 'B-COUNT', 'I-PERSON', 'B-PERSON', 'I-COMP_OP', 'I-FIRE', 'B-ROCKT', 'B-QUESTION_TYPE', 'B-TIME_FRAME', 'B-ALERT']\n",
      "{'B-DRONE': 0, 'I-ACTION': 1, 'B-TERRORIST': 2, 'B-COMP_OP': 3, 'I-QUESTION_TYPE': 4, '0': 5, 'B-TITLE': 6, 'I-ROCKT': 7, 'B-LOCATION': 8, 'I-DRONE': 9, 'B-ORG': 10, 'I-TIME_FRAME': 11, 'B-EARTHQUAKE': 12, 'I-LOCATION': 13, 'I-DATE': 14, 'B-ACTION': 15, 'B-FIRE': 16, 'I-COUNT': 17, 'I-TERRORIST': 18, 'O': 19, 'I-EARTHQUAKE': 20, 'I-ALERT': 21, 'B-DATE': 22, 'B-COUNT': 23, 'I-PERSON': 24, 'B-PERSON': 25, 'I-COMP_OP': 26, 'I-FIRE': 27, 'B-ROCKT': 28, 'B-QUESTION_TYPE': 29, 'B-TIME_FRAME': 30, 'B-ALERT': 31}\n"
     ]
    }
   ],
   "source": [
    "# Extract unique tags\n",
    "unique_tags = list(set(tag for sample in data for tag in sample[\"ner_tags\"]))\n",
    "print(unique_tags)  # Check unique tags\n",
    "\n",
    "# Create label mapping\n",
    "label2id = {label: i for i, label in enumerate(unique_tags)}\n",
    "id2label = {i: label for label, i in label2id.items()}\n",
    "\n",
    "print(label2id)  # Check label mappings\n"
   ]
  },
  {
   "cell_type": "code",
   "execution_count": 192,
   "metadata": {},
   "outputs": [],
   "source": [
    "from transformers import AutoTokenizer\n",
    "\n",
    "model_checkpoint = \"Davlan/xlm-roberta-base-ner-hrl\"\n",
    "tokenizer = AutoTokenizer.from_pretrained(model_checkpoint)"
   ]
  },
  {
   "cell_type": "code",
   "execution_count": null,
   "metadata": {},
   "outputs": [
    {
     "name": "stderr",
     "output_type": "stream",
     "text": [
      "Map: 100%|██████████| 314/314 [00:00<00:00, 3738.12 examples/s]\n",
      "Map: 100%|██████████| 35/35 [00:00<00:00, 2691.96 examples/s]\n"
     ]
    }
   ],
   "source": [
    "def tokenize_and_align_labels(example):\n",
    "    tokenized_inputs = tokenizer(example[\"tokens\"], is_split_into_words=True, truncation=True)\n",
    "\n",
    "    labels = []\n",
    "    word_ids = tokenized_inputs.word_ids()  # Maps subwords to words\n",
    "    ner_tags = example[\"ner_tags\"]  # Original labels\n",
    "\n",
    "    previous_word_idx = None\n",
    "    for word_idx in word_ids:\n",
    "        if word_idx is None:\n",
    "            labels.append(-100)  # Ignore special tokens\n",
    "        elif word_idx != previous_word_idx:\n",
    "            if word_idx < len(ner_tags):\n",
    "                labels.append(label2id[ner_tags[word_idx]])  # Assign full label to first subword\n",
    "            else:\n",
    "                labels.append(-100) \n",
    "        else:\n",
    "            if word_idx < len(ner_tags):\n",
    "                labels.append(label2id[ner_tags[word_idx]])  # Keep the same label\n",
    "            else:\n",
    "                labels.append(-100)\n",
    "\n",
    "        previous_word_idx = word_idx\n",
    "\n",
    "    tokenized_inputs[\"labels\"] = labels\n",
    "    return tokenized_inputs\n",
    "\n",
    "\n",
    "train_dataset = train_dataset.map(tokenize_and_align_labels)\n",
    "test_dataset = test_dataset.map(tokenize_and_align_labels)"
   ]
  },
  {
   "cell_type": "markdown",
   "metadata": {},
   "source": [
    "# Checking if the mapping was done successfully:"
   ]
  },
  {
   "cell_type": "code",
   "execution_count": 194,
   "metadata": {},
   "outputs": [
    {
     "name": "stdout",
     "output_type": "stream",
     "text": [
      "<s>             --> IGNORED\n",
      "▁How            --> B-QUESTION_TYPE\n",
      "▁many           --> I-QUESTION_TYPE\n",
      "▁miss           --> B-ROCKT\n",
      "ile             --> B-ROCKT\n",
      "▁alert          --> I-ROCKT\n",
      "s               --> I-ROCKT\n",
      "▁where          --> O\n",
      "▁there          --> O\n",
      "▁in             --> O\n",
      "▁K              --> B-LOCATION\n",
      "far             --> B-LOCATION\n",
      "▁Ne             --> I-LOCATION\n",
      "har             --> I-LOCATION\n",
      "▁Ha             --> I-LOCATION\n",
      "Y               --> I-LOCATION\n",
      "ar              --> I-LOCATION\n",
      "den             --> I-LOCATION\n",
      "▁?              --> O\n",
      "</s>            --> IGNORED\n"
     ]
    }
   ],
   "source": [
    "sample = train_dataset[298]  # Get the first example\n",
    "tokens = tokenizer.convert_ids_to_tokens(sample[\"input_ids\"])  # Convert token IDs to words\n",
    "labels = sample[\"labels\"]  # Get corresponding labels\n",
    "\n",
    "for token, label in zip(tokens, labels):\n",
    "    print(f\"{token:15} --> {id2label.get(label, 'IGNORED')}\")\n"
   ]
  },
  {
   "cell_type": "code",
   "execution_count": 203,
   "metadata": {},
   "outputs": [
    {
     "name": "stderr",
     "output_type": "stream",
     "text": [
      "Some weights of XLMRobertaForTokenClassification were not initialized from the model checkpoint at Davlan/xlm-roberta-base-ner-hrl and are newly initialized because the shapes did not match:\n",
      "- classifier.bias: found shape torch.Size([9]) in the checkpoint and torch.Size([32]) in the model instantiated\n",
      "- classifier.weight: found shape torch.Size([9, 768]) in the checkpoint and torch.Size([32, 768]) in the model instantiated\n",
      "You should probably TRAIN this model on a down-stream task to be able to use it for predictions and inference.\n"
     ]
    }
   ],
   "source": [
    "from transformers import AutoModelForTokenClassification\n",
    "\n",
    "model = AutoModelForTokenClassification.from_pretrained(\n",
    "    model_checkpoint,\n",
    "    num_labels=len(label2id),\n",
    "    id2label=id2label,\n",
    "    label2id=label2id,\n",
    "    ignore_mismatched_sizes=True \n",
    ")\n"
   ]
  },
  {
   "cell_type": "code",
   "execution_count": 204,
   "metadata": {},
   "outputs": [
    {
     "name": "stdout",
     "output_type": "stream",
     "text": [
      "Label to ID Mapping: {'B-DRONE': 0, 'I-ACTION': 1, 'B-TERRORIST': 2, 'B-COMP_OP': 3, 'I-QUESTION_TYPE': 4, '0': 5, 'B-TITLE': 6, 'I-ROCKT': 7, 'B-LOCATION': 8, 'I-DRONE': 9, 'B-ORG': 10, 'I-TIME_FRAME': 11, 'B-EARTHQUAKE': 12, 'I-LOCATION': 13, 'I-DATE': 14, 'B-ACTION': 15, 'B-FIRE': 16, 'I-COUNT': 17, 'I-TERRORIST': 18, 'O': 19, 'I-EARTHQUAKE': 20, 'I-ALERT': 21, 'B-DATE': 22, 'B-COUNT': 23, 'I-PERSON': 24, 'B-PERSON': 25, 'I-COMP_OP': 26, 'I-FIRE': 27, 'B-ROCKT': 28, 'B-QUESTION_TYPE': 29, 'B-TIME_FRAME': 30, 'B-ALERT': 31}\n",
      "ID to Label Mapping: {0: 'B-DRONE', 1: 'I-ACTION', 2: 'B-TERRORIST', 3: 'B-COMP_OP', 4: 'I-QUESTION_TYPE', 5: '0', 6: 'B-TITLE', 7: 'I-ROCKT', 8: 'B-LOCATION', 9: 'I-DRONE', 10: 'B-ORG', 11: 'I-TIME_FRAME', 12: 'B-EARTHQUAKE', 13: 'I-LOCATION', 14: 'I-DATE', 15: 'B-ACTION', 16: 'B-FIRE', 17: 'I-COUNT', 18: 'I-TERRORIST', 19: 'O', 20: 'I-EARTHQUAKE', 21: 'I-ALERT', 22: 'B-DATE', 23: 'B-COUNT', 24: 'I-PERSON', 25: 'B-PERSON', 26: 'I-COMP_OP', 27: 'I-FIRE', 28: 'B-ROCKT', 29: 'B-QUESTION_TYPE', 30: 'B-TIME_FRAME', 31: 'B-ALERT'}\n",
      "Number of Labels: 32\n"
     ]
    }
   ],
   "source": [
    "print(\"Label to ID Mapping:\", label2id)\n",
    "print(\"ID to Label Mapping:\", id2label)\n",
    "print(\"Number of Labels:\", len(label2id))"
   ]
  },
  {
   "cell_type": "code",
   "execution_count": 205,
   "metadata": {},
   "outputs": [
    {
     "name": "stderr",
     "output_type": "stream",
     "text": [
      "f:\\shenkar\\pagmar\\venv\\Lib\\site-packages\\transformers\\training_args.py:1575: FutureWarning: `evaluation_strategy` is deprecated and will be removed in version 4.46 of 🤗 Transformers. Use `eval_strategy` instead\n",
      "  warnings.warn(\n"
     ]
    }
   ],
   "source": [
    "from transformers import TrainingArguments\n",
    "\n",
    "training_args = TrainingArguments(\n",
    "    output_dir=\"./ner_expanded_bert_model\",\n",
    "    evaluation_strategy=\"epoch\",\n",
    "    save_strategy=\"epoch\",\n",
    "    learning_rate=2e-5,\n",
    "    per_device_train_batch_size=8,\n",
    "    per_device_eval_batch_size=8,\n",
    "    num_train_epochs=12,  # Adjust as needed\n",
    "    weight_decay=0.01,\n",
    "    push_to_hub=False,\n",
    ")\n"
   ]
  },
  {
   "cell_type": "code",
   "execution_count": 206,
   "metadata": {},
   "outputs": [],
   "source": [
    "from transformers import Trainer, DataCollatorForTokenClassification\n",
    "\n",
    "data_collator = DataCollatorForTokenClassification(tokenizer)\n",
    "\n",
    "trainer = Trainer(\n",
    "    model=model,\n",
    "    args=training_args,\n",
    "    train_dataset=train_dataset,\n",
    "    eval_dataset=test_dataset,\n",
    "    data_collator=data_collator,\n",
    ")\n"
   ]
  },
  {
   "cell_type": "code",
   "execution_count": 207,
   "metadata": {},
   "outputs": [
    {
     "data": {
      "text/html": [
       "\n",
       "    <div>\n",
       "      \n",
       "      <progress value='480' max='480' style='width:300px; height:20px; vertical-align: middle;'></progress>\n",
       "      [480/480 16:29, Epoch 12/12]\n",
       "    </div>\n",
       "    <table border=\"1\" class=\"dataframe\">\n",
       "  <thead>\n",
       " <tr style=\"text-align: left;\">\n",
       "      <th>Epoch</th>\n",
       "      <th>Training Loss</th>\n",
       "      <th>Validation Loss</th>\n",
       "    </tr>\n",
       "  </thead>\n",
       "  <tbody>\n",
       "    <tr>\n",
       "      <td>1</td>\n",
       "      <td>No log</td>\n",
       "      <td>1.092183</td>\n",
       "    </tr>\n",
       "    <tr>\n",
       "      <td>2</td>\n",
       "      <td>No log</td>\n",
       "      <td>0.431031</td>\n",
       "    </tr>\n",
       "    <tr>\n",
       "      <td>3</td>\n",
       "      <td>No log</td>\n",
       "      <td>0.243734</td>\n",
       "    </tr>\n",
       "    <tr>\n",
       "      <td>4</td>\n",
       "      <td>No log</td>\n",
       "      <td>0.181929</td>\n",
       "    </tr>\n",
       "    <tr>\n",
       "      <td>5</td>\n",
       "      <td>No log</td>\n",
       "      <td>0.157488</td>\n",
       "    </tr>\n",
       "    <tr>\n",
       "      <td>6</td>\n",
       "      <td>No log</td>\n",
       "      <td>0.144754</td>\n",
       "    </tr>\n",
       "    <tr>\n",
       "      <td>7</td>\n",
       "      <td>No log</td>\n",
       "      <td>0.157285</td>\n",
       "    </tr>\n",
       "    <tr>\n",
       "      <td>8</td>\n",
       "      <td>No log</td>\n",
       "      <td>0.148218</td>\n",
       "    </tr>\n",
       "    <tr>\n",
       "      <td>9</td>\n",
       "      <td>No log</td>\n",
       "      <td>0.147831</td>\n",
       "    </tr>\n",
       "    <tr>\n",
       "      <td>10</td>\n",
       "      <td>No log</td>\n",
       "      <td>0.161752</td>\n",
       "    </tr>\n",
       "    <tr>\n",
       "      <td>11</td>\n",
       "      <td>No log</td>\n",
       "      <td>0.148837</td>\n",
       "    </tr>\n",
       "    <tr>\n",
       "      <td>12</td>\n",
       "      <td>No log</td>\n",
       "      <td>0.150494</td>\n",
       "    </tr>\n",
       "  </tbody>\n",
       "</table><p>"
      ],
      "text/plain": [
       "<IPython.core.display.HTML object>"
      ]
     },
     "metadata": {},
     "output_type": "display_data"
    },
    {
     "data": {
      "text/plain": [
       "TrainOutput(global_step=480, training_loss=0.34561227162679037, metrics={'train_runtime': 993.56, 'train_samples_per_second': 3.792, 'train_steps_per_second': 0.483, 'total_flos': 41498236713216.0, 'train_loss': 0.34561227162679037, 'epoch': 12.0})"
      ]
     },
     "execution_count": 207,
     "metadata": {},
     "output_type": "execute_result"
    }
   ],
   "source": [
    "trainer.train()"
   ]
  },
  {
   "cell_type": "code",
   "execution_count": 182,
   "metadata": {},
   "outputs": [
    {
     "name": "stdout",
     "output_type": "stream",
     "text": [
      "Requirement already satisfied: evaluate in .\\venv\\lib\\site-packages (0.4.3)\n",
      "Requirement already satisfied: datasets>=2.0.0 in .\\venv\\lib\\site-packages (from evaluate) (3.3.2)\n",
      "Requirement already satisfied: numpy>=1.17 in .\\venv\\lib\\site-packages (from evaluate) (2.2.2)\n",
      "Requirement already satisfied: dill in .\\venv\\lib\\site-packages (from evaluate) (0.3.8)\n",
      "Requirement already satisfied: pandas in .\\venv\\lib\\site-packages (from evaluate) (2.2.3)\n",
      "Requirement already satisfied: requests>=2.19.0 in .\\venv\\lib\\site-packages (from evaluate) (2.32.3)\n",
      "Requirement already satisfied: tqdm>=4.62.1 in .\\venv\\lib\\site-packages (from evaluate) (4.67.1)\n",
      "Requirement already satisfied: xxhash in .\\venv\\lib\\site-packages (from evaluate) (3.5.0)\n",
      "Requirement already satisfied: multiprocess in .\\venv\\lib\\site-packages (from evaluate) (0.70.16)\n",
      "Requirement already satisfied: fsspec>=2021.05.0 in .\\venv\\lib\\site-packages (from fsspec[http]>=2021.05.0->evaluate) (2024.9.0)\n",
      "Requirement already satisfied: huggingface-hub>=0.7.0 in .\\venv\\lib\\site-packages (from evaluate) (0.28.1)\n",
      "Requirement already satisfied: packaging in .\\venv\\lib\\site-packages (from evaluate) (24.2)\n",
      "Requirement already satisfied: filelock in .\\venv\\lib\\site-packages (from datasets>=2.0.0->evaluate) (3.17.0)\n",
      "Requirement already satisfied: pyarrow>=15.0.0 in .\\venv\\lib\\site-packages (from datasets>=2.0.0->evaluate) (19.0.0)\n",
      "Requirement already satisfied: aiohttp in .\\venv\\lib\\site-packages (from datasets>=2.0.0->evaluate) (3.11.12)\n",
      "Requirement already satisfied: pyyaml>=5.1 in .\\venv\\lib\\site-packages (from datasets>=2.0.0->evaluate) (6.0.2)\n",
      "Requirement already satisfied: typing-extensions>=3.7.4.3 in .\\venv\\lib\\site-packages (from huggingface-hub>=0.7.0->evaluate) (4.12.2)\n",
      "Requirement already satisfied: charset-normalizer<4,>=2 in .\\venv\\lib\\site-packages (from requests>=2.19.0->evaluate) (3.4.1)\n",
      "Requirement already satisfied: idna<4,>=2.5 in .\\venv\\lib\\site-packages (from requests>=2.19.0->evaluate) (3.10)\n",
      "Requirement already satisfied: urllib3<3,>=1.21.1 in .\\venv\\lib\\site-packages (from requests>=2.19.0->evaluate) (2.3.0)\n",
      "Requirement already satisfied: certifi>=2017.4.17 in .\\venv\\lib\\site-packages (from requests>=2.19.0->evaluate) (2025.1.31)\n",
      "Requirement already satisfied: colorama in .\\venv\\lib\\site-packages (from tqdm>=4.62.1->evaluate) (0.4.6)\n",
      "Requirement already satisfied: python-dateutil>=2.8.2 in .\\venv\\lib\\site-packages (from pandas->evaluate) (2.9.0.post0)\n",
      "Requirement already satisfied: pytz>=2020.1 in .\\venv\\lib\\site-packages (from pandas->evaluate) (2025.1)\n",
      "Requirement already satisfied: tzdata>=2022.7 in .\\venv\\lib\\site-packages (from pandas->evaluate) (2025.1)\n",
      "Requirement already satisfied: aiohappyeyeballs>=2.3.0 in .\\venv\\lib\\site-packages (from aiohttp->datasets>=2.0.0->evaluate) (2.4.6)\n",
      "Requirement already satisfied: aiosignal>=1.1.2 in .\\venv\\lib\\site-packages (from aiohttp->datasets>=2.0.0->evaluate) (1.3.2)\n",
      "Requirement already satisfied: attrs>=17.3.0 in .\\venv\\lib\\site-packages (from aiohttp->datasets>=2.0.0->evaluate) (25.1.0)\n",
      "Requirement already satisfied: frozenlist>=1.1.1 in .\\venv\\lib\\site-packages (from aiohttp->datasets>=2.0.0->evaluate) (1.5.0)\n",
      "Requirement already satisfied: multidict<7.0,>=4.5 in .\\venv\\lib\\site-packages (from aiohttp->datasets>=2.0.0->evaluate) (6.1.0)\n",
      "Requirement already satisfied: propcache>=0.2.0 in .\\venv\\lib\\site-packages (from aiohttp->datasets>=2.0.0->evaluate) (0.2.1)\n",
      "Requirement already satisfied: yarl<2.0,>=1.17.0 in .\\venv\\lib\\site-packages (from aiohttp->datasets>=2.0.0->evaluate) (1.18.3)\n",
      "Requirement already satisfied: six>=1.5 in .\\venv\\lib\\site-packages (from python-dateutil>=2.8.2->pandas->evaluate) (1.17.0)\n"
     ]
    },
    {
     "name": "stderr",
     "output_type": "stream",
     "text": [
      "\n",
      "[notice] A new release of pip is available: 24.0 -> 25.0.1\n",
      "[notice] To update, run: python.exe -m pip install --upgrade pip\n"
     ]
    }
   ],
   "source": [
    "!pip install evaluate"
   ]
  },
  {
   "cell_type": "code",
   "execution_count": 208,
   "metadata": {},
   "outputs": [
    {
     "data": {
      "text/html": [
       "\n",
       "    <div>\n",
       "      \n",
       "      <progress value='5' max='5' style='width:300px; height:20px; vertical-align: middle;'></progress>\n",
       "      [5/5 00:00]\n",
       "    </div>\n",
       "    "
      ],
      "text/plain": [
       "<IPython.core.display.HTML object>"
      ]
     },
     "metadata": {},
     "output_type": "display_data"
    },
    {
     "name": "stdout",
     "output_type": "stream",
     "text": [
      "{'eval_loss': 0.15049368143081665, 'eval_precision': 0.967741935483871, 'eval_recall': 0.9523809523809523, 'eval_f1': 0.96, 'eval_accuracy': 0.9785575048732943, 'eval_runtime': 0.465, 'eval_samples_per_second': 75.269, 'eval_steps_per_second': 10.753, 'epoch': 12.0}\n"
     ]
    },
    {
     "name": "stderr",
     "output_type": "stream",
     "text": [
      "f:\\shenkar\\pagmar\\venv\\Lib\\site-packages\\seqeval\\metrics\\sequence_labeling.py:171: UserWarning: 0 seems not to be NE tag.\n",
      "  warnings.warn('{} seems not to be NE tag.'.format(chunk))\n"
     ]
    }
   ],
   "source": [
    "import numpy as np\n",
    "import evaluate  # ✅ New library for metrics\n",
    "\n",
    "# Load the seqeval metric for NER\n",
    "metric = evaluate.load(\"seqeval\")\n",
    "\n",
    "def compute_metrics(p):\n",
    "    predictions, labels = p\n",
    "    predictions = np.argmax(predictions, axis=2)\n",
    "\n",
    "    true_labels = [[id2label[l] for l in label if l != -100] for label in labels]\n",
    "    true_predictions = [[id2label[p] for p, l in zip(prediction, label) if l != -100] for prediction, label in zip(predictions, labels)]\n",
    "\n",
    "    results = metric.compute(predictions=true_predictions, references=true_labels)\n",
    "    return {\n",
    "        \"precision\": results[\"overall_precision\"],\n",
    "        \"recall\": results[\"overall_recall\"],\n",
    "        \"f1\": results[\"overall_f1\"],\n",
    "        \"accuracy\": results[\"overall_accuracy\"],\n",
    "    }\n",
    "\n",
    "trainer.compute_metrics = compute_metrics\n",
    "results = trainer.evaluate()\n",
    "print(results)\n"
   ]
  },
  {
   "cell_type": "code",
   "execution_count": 210,
   "metadata": {},
   "outputs": [
    {
     "data": {
      "text/plain": [
       "('./ner_varied_model\\\\tokenizer_config.json',\n",
       " './ner_varied_model\\\\special_tokens_map.json',\n",
       " './ner_varied_model\\\\sentencepiece.bpe.model',\n",
       " './ner_varied_model\\\\added_tokens.json',\n",
       " './ner_varied_model\\\\tokenizer.json')"
      ]
     },
     "execution_count": 210,
     "metadata": {},
     "output_type": "execute_result"
    }
   ],
   "source": [
    "trainer.save_model(\"./ner_varied_model\")\n",
    "tokenizer.save_pretrained(\"./ner_varied_model\")\n"
   ]
  },
  {
   "cell_type": "code",
   "execution_count": 218,
   "metadata": {},
   "outputs": [
    {
     "name": "stderr",
     "output_type": "stream",
     "text": [
      "Device set to use cpu\n"
     ]
    },
    {
     "name": "stdout",
     "output_type": "stream",
     "text": [
      "[{'entity_group': 'LOCATION', 'score': np.float32(0.98947865), 'word': 'Israel', 'start': 10, 'end': 17}, {'entity_group': 'QUESTION_TYPE', 'score': np.float32(0.78987235), 'word': 'what', 'start': 36, 'end': 41}, {'entity_group': 'COUNT', 'score': np.float32(0.48255086), 'word': 'number', 'start': 48, 'end': 55}, {'entity_group': 'ALERT', 'score': np.float32(0.9938149), 'word': 'red alerts', 'start': 58, 'end': 69}, {'entity_group': 'TIME_FRAME', 'score': np.float32(0.9922793), 'word': 'past month', 'start': 76, 'end': 87}, {'entity_group': 'LOCATION', 'score': np.float32(0.9925471), 'word': 'kir', 'start': 90, 'end': 94}, {'entity_group': 'LOCATION', 'score': np.float32(0.7689394), 'word': 'yat gat', 'start': 94, 'end': 101}]\n"
     ]
    }
   ],
   "source": [
    "from transformers import pipeline\n",
    "\n",
    "nlp_ner = pipeline(\"ner\", model=\"./ner_varied_model\", tokenizer=\"./ner_varied_model\", aggregation_strategy=\"simple\")\n",
    "\n",
    "# text = \"i would like you to present me with how much ice cream i ate in the last 5 days?\"\n",
    "text = \"Missiles and rockets were fired at Tel Aviv yesterday.\"\n",
    "text = \"were there any aircraft alerts in Tel Aviv yesterday\"\n",
    "text = \"hi im from Israel and I want to know what is the number of red alerts in the past month in kiryat gat ?\"\n",
    "# text = \"is there any ice cream left in the freezer?\"\n",
    "# text = \"תראה לי את כל התראות טילים במתן.\"\n",
    "# text = \"היו אתמול התראות חדירת כלי טיס עוין בתל אביב?\"\n",
    "# text = \"היו גלידות בסופר בנצרת אתמול??\"\n",
    "result = nlp_ner(text)\n",
    "print(result)\n",
    "# labels = [entity[\"entity_group\"] for entity in result]\n",
    "# labels\n",
    "# if not \"ALERT_TYPE\" in [entity[\"entity_group\"] for entity in result]:\n",
    "#     print(result)\n",
    "# text = \"הייתה חדירת מחבלים אתמול??\"\n",
    "# text = \"كم عدد إنذارات الصواريخ التي كانت في تل أبيب أمس؟\"\n"
   ]
  },
  {
   "cell_type": "markdown",
   "metadata": {},
   "source": [
    "# We need to add more exsamples of questions in different topics to avoid overffiting model"
   ]
  },
  {
   "cell_type": "code",
   "execution_count": 73,
   "metadata": {},
   "outputs": [],
   "source": [
    "from datasets import load_dataset\n",
    "\n",
    "# Load the Yahoo Answers dataset\n",
    "dataset = load_dataset(\"yahoo_answers_topics\")"
   ]
  },
  {
   "cell_type": "code",
   "execution_count": 128,
   "metadata": {},
   "outputs": [
    {
     "ename": "KeyError",
     "evalue": "'question_title'",
     "output_type": "error",
     "traceback": [
      "\u001b[31m---------------------------------------------------------------------------\u001b[39m",
      "\u001b[31mKeyError\u001b[39m                                  Traceback (most recent call last)",
      "\u001b[36mCell\u001b[39m\u001b[36m \u001b[39m\u001b[32mIn[128]\u001b[39m\u001b[32m, line 2\u001b[39m\n\u001b[32m      1\u001b[39m dataset[\u001b[33m\"\u001b[39m\u001b[33mtrain\u001b[39m\u001b[33m\"\u001b[39m][\u001b[32m1\u001b[39m]\n\u001b[32m----> \u001b[39m\u001b[32m2\u001b[39m text = \u001b[43mdataset\u001b[49m\u001b[43m[\u001b[49m\u001b[33;43m\"\u001b[39;49m\u001b[33;43mtrain\u001b[39;49m\u001b[33;43m\"\u001b[39;49m\u001b[43m]\u001b[49m\u001b[43m[\u001b[49m\u001b[32;43m4\u001b[39;49m\u001b[43m]\u001b[49m\u001b[43m[\u001b[49m\u001b[33;43m\"\u001b[39;49m\u001b[33;43mquestion_title\u001b[39;49m\u001b[33;43m\"\u001b[39;49m\u001b[43m]\u001b[49m\n\u001b[32m      3\u001b[39m text = \u001b[33m\"\u001b[39m\u001b[33mMissiles and rockets were fired at Tel Aviv yesterday.\u001b[39m\u001b[33m\"\u001b[39m\n\u001b[32m      4\u001b[39m result = nlp_ner(text)\n",
      "\u001b[31mKeyError\u001b[39m: 'question_title'"
     ]
    }
   ],
   "source": [
    "dataset[\"train\"][1]\n",
    "text = dataset[\"train\"][4][\"question_title\"]\n",
    "text = \"Missiles and rockets were fired at Tel Aviv yesterday.\"\n",
    "result = nlp_ner(text)\n",
    "print(result)\n"
   ]
  },
  {
   "cell_type": "code",
   "execution_count": 219,
   "metadata": {},
   "outputs": [],
   "source": [
    "def merge_subwords(ner_results):\n",
    "    merged_entities = []\n",
    "    current_entity = None\n",
    "\n",
    "    for entity in ner_results:\n",
    "        if current_entity and entity[\"entity_group\"] == current_entity[\"entity_group\"]:\n",
    "            # Ensure words are consecutive, otherwise treat as separate\n",
    "            if entity[\"start\"] == current_entity[\"end\"]:  \n",
    "                current_entity[\"word\"] += entity[\"word\"]  # Merge subword\n",
    "            else:\n",
    "                merged_entities.append(current_entity)\n",
    "                current_entity = entity.copy()  # Start a new entity\n",
    "\n",
    "            current_entity[\"end\"] = entity[\"end\"]  # Update end position\n",
    "            current_entity[\"score\"] = (current_entity[\"score\"] + entity[\"score\"]) / 2  # Average confidence\n",
    "        else:\n",
    "            if current_entity:\n",
    "                merged_entities.append(current_entity)\n",
    "            current_entity = entity.copy()\n",
    "\n",
    "    if current_entity:\n",
    "        merged_entities.append(current_entity)\n",
    "\n",
    "    return merged_entities"
   ]
  },
  {
   "cell_type": "code",
   "execution_count": 220,
   "metadata": {},
   "outputs": [
    {
     "ename": "KeyError",
     "evalue": "'question_title'",
     "output_type": "error",
     "traceback": [
      "\u001b[31m---------------------------------------------------------------------------\u001b[39m",
      "\u001b[31mKeyError\u001b[39m                                  Traceback (most recent call last)",
      "\u001b[36mCell\u001b[39m\u001b[36m \u001b[39m\u001b[32mIn[220]\u001b[39m\u001b[32m, line 4\u001b[39m\n\u001b[32m      2\u001b[39m expanded = []\n\u001b[32m      3\u001b[39m \u001b[38;5;28;01mfor\u001b[39;00m i \u001b[38;5;129;01min\u001b[39;00m \u001b[38;5;28mrange\u001b[39m(\u001b[32m0\u001b[39m,\u001b[32m150\u001b[39m):\n\u001b[32m----> \u001b[39m\u001b[32m4\u001b[39m     expanded.append(\u001b[43mdataset\u001b[49m\u001b[43m[\u001b[49m\u001b[33;43m\"\u001b[39;49m\u001b[33;43mtrain\u001b[39;49m\u001b[33;43m\"\u001b[39;49m\u001b[43m]\u001b[49m\u001b[43m[\u001b[49m\u001b[43mi\u001b[49m\u001b[43m]\u001b[49m\u001b[43m[\u001b[49m\u001b[33;43m\"\u001b[39;49m\u001b[33;43mquestion_title\u001b[39;49m\u001b[33;43m\"\u001b[39;49m\u001b[43m]\u001b[49m)\n\u001b[32m      5\u001b[39m \u001b[38;5;28;01mwith\u001b[39;00m \u001b[38;5;28mopen\u001b[39m(\u001b[33m\"\u001b[39m\u001b[33mdatasets/expanded.json\u001b[39m\u001b[33m\"\u001b[39m, \u001b[33m\"\u001b[39m\u001b[33mw\u001b[39m\u001b[33m\"\u001b[39m, encoding=\u001b[33m\"\u001b[39m\u001b[33mutf-8\u001b[39m\u001b[33m\"\u001b[39m) \u001b[38;5;28;01mas\u001b[39;00m f:\n\u001b[32m      6\u001b[39m     json.dump(expanded, f, ensure_ascii=\u001b[38;5;28;01mFalse\u001b[39;00m, indent=\u001b[32m4\u001b[39m)\n",
      "\u001b[31mKeyError\u001b[39m: 'question_title'"
     ]
    }
   ],
   "source": [
    "import json\n",
    "expanded = []\n",
    "for i in range(0,150):\n",
    "    expanded.append(dataset[\"train\"][i][\"question_title\"])\n",
    "with open(\"datasets/expanded.json\", \"w\", encoding=\"utf-8\") as f:\n",
    "    json.dump(expanded, f, ensure_ascii=False, indent=4)\n",
    "# print()"
   ]
  },
  {
   "cell_type": "code",
   "execution_count": 84,
   "metadata": {},
   "outputs": [
    {
     "data": {
      "text/plain": [
       "60"
      ]
     },
     "execution_count": 84,
     "metadata": {},
     "output_type": "execute_result"
    }
   ],
   "source": [
    "with open(\"datasets/shared/temp.json\", \"r\", encoding=\"utf-8\") as f:\n",
    "    data = json.load(f)\n",
    "len(data)"
   ]
  },
  {
   "cell_type": "code",
   "execution_count": 154,
   "metadata": {},
   "outputs": [
    {
     "name": "stdout",
     "output_type": "stream",
     "text": [
      "Collecting dateparser\n",
      "  Downloading dateparser-1.2.1-py3-none-any.whl.metadata (29 kB)\n",
      "Requirement already satisfied: python-dateutil>=2.7.0 in .\\venv\\lib\\site-packages (from dateparser) (2.9.0.post0)\n",
      "Requirement already satisfied: pytz>=2024.2 in .\\venv\\lib\\site-packages (from dateparser) (2025.1)\n",
      "Requirement already satisfied: regex!=2019.02.19,!=2021.8.27,>=2015.06.24 in .\\venv\\lib\\site-packages (from dateparser) (2024.11.6)\n",
      "Collecting tzlocal>=0.2 (from dateparser)\n",
      "  Downloading tzlocal-5.3.1-py3-none-any.whl.metadata (7.6 kB)\n",
      "Requirement already satisfied: six>=1.5 in .\\venv\\lib\\site-packages (from python-dateutil>=2.7.0->dateparser) (1.17.0)\n",
      "Requirement already satisfied: tzdata in .\\venv\\lib\\site-packages (from tzlocal>=0.2->dateparser) (2025.1)\n",
      "Downloading dateparser-1.2.1-py3-none-any.whl (295 kB)\n",
      "   ---------------------------------------- 0.0/295.7 kB ? eta -:--:--\n",
      "   ---- ----------------------------------- 30.7/295.7 kB 1.3 MB/s eta 0:00:01\n",
      "   --------- ----------------------------- 71.7/295.7 kB 991.0 kB/s eta 0:00:01\n",
      "   -------------------- ------------------- 153.6/295.7 kB 1.5 MB/s eta 0:00:01\n",
      "   --------------------------- ------------ 204.8/295.7 kB 1.4 MB/s eta 0:00:01\n",
      "   ---------------------------------------- 295.7/295.7 kB 1.7 MB/s eta 0:00:00\n",
      "Downloading tzlocal-5.3.1-py3-none-any.whl (18 kB)\n",
      "Installing collected packages: tzlocal, dateparser\n",
      "Successfully installed dateparser-1.2.1 tzlocal-5.3.1\n"
     ]
    },
    {
     "name": "stderr",
     "output_type": "stream",
     "text": [
      "\n",
      "[notice] A new release of pip is available: 24.0 -> 25.0.1\n",
      "[notice] To update, run: python.exe -m pip install --upgrade pip\n"
     ]
    }
   ],
   "source": [
    "!pip install dateparser"
   ]
  },
  {
   "cell_type": "code",
   "execution_count": 155,
   "metadata": {},
   "outputs": [],
   "source": [
    "import dateparser\n",
    "from datetime import datetime\n",
    "\n",
    "def convert_time_frame(time_string):\n",
    "    \"\"\"\n",
    "    Parses natural language time expressions and converts them to a date format.\n",
    "    \"\"\"\n",
    "    parsed_date = dateparser.parse(time_string)\n",
    "    if parsed_date:\n",
    "        return parsed_date.strftime(\"%Y-%m-%d\")  # Convert to string for query\n",
    "    return time_string  # Return original if not recognized"
   ]
  },
  {
   "cell_type": "code",
   "execution_count": 165,
   "metadata": {},
   "outputs": [
    {
     "name": "stdout",
     "output_type": "stream",
     "text": [
      "2024-07-01\n"
     ]
    }
   ],
   "source": [
    "print(convert_time_frame(\"1 of july 2024\"))  # Test the function"
   ]
  },
  {
   "cell_type": "code",
   "execution_count": 167,
   "metadata": {},
   "outputs": [
    {
     "name": "stdout",
     "output_type": "stream",
     "text": [
      "Requirement already satisfied: fuzzywuzzy in .\\venv\\lib\\site-packages (0.18.0)\n"
     ]
    },
    {
     "name": "stderr",
     "output_type": "stream",
     "text": [
      "\n",
      "[notice] A new release of pip is available: 24.0 -> 25.0.1\n",
      "[notice] To update, run: python.exe -m pip install --upgrade pip\n"
     ]
    }
   ],
   "source": [
    "!pip install fuzzywuzzy"
   ]
  },
  {
   "cell_type": "code",
   "execution_count": 168,
   "metadata": {},
   "outputs": [
    {
     "name": "stderr",
     "output_type": "stream",
     "text": [
      "f:\\shenkar\\pagmar\\venv\\Lib\\site-packages\\fuzzywuzzy\\fuzz.py:11: UserWarning: Using slow pure-python SequenceMatcher. Install python-Levenshtein to remove this warning\n",
      "  warnings.warn('Using slow pure-python SequenceMatcher. Install python-Levenshtein to remove this warning')\n"
     ]
    }
   ],
   "source": [
    "from fuzzywuzzy import process\n",
    "\n",
    "def get_best_match(user_input, category):\n",
    "    \"\"\"\n",
    "    Finds the closest entity match from the database/config.\n",
    "    \"\"\"\n",
    "    options = ENTITY_MAPPINGS.get(category, {}).keys()\n",
    "    best_match, score = process.extractOne(user_input, options)\n",
    "    \n",
    "    # If confidence is high, return the normalized value\n",
    "    return ENTITY_MAPPINGS[category].get(best_match, user_input) if score > 80 else user_input"
   ]
  }
 ],
 "metadata": {
  "kernelspec": {
   "display_name": "venv",
   "language": "python",
   "name": "python3"
  },
  "language_info": {
   "codemirror_mode": {
    "name": "ipython",
    "version": 3
   },
   "file_extension": ".py",
   "mimetype": "text/x-python",
   "name": "python",
   "nbconvert_exporter": "python",
   "pygments_lexer": "ipython3",
   "version": "3.12.4"
  }
 },
 "nbformat": 4,
 "nbformat_minor": 2
}
